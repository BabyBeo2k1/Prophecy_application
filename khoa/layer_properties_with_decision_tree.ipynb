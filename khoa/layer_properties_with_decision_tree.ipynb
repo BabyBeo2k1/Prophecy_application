{
 "cells": [
  {
   "cell_type": "code",
   "execution_count": 2,
   "id": "b96e89e4",
   "metadata": {},
   "outputs": [
    {
     "ename": "ModuleNotFoundError",
     "evalue": "No module named 'algorithms'",
     "output_type": "error",
     "traceback": [
      "\u001b[0;31m---------------------------------------------------------------------------\u001b[0m",
      "\u001b[0;31mModuleNotFoundError\u001b[0m                       Traceback (most recent call last)",
      "Cell \u001b[0;32mIn[2], line 1\u001b[0m\n\u001b[0;32m----> 1\u001b[0m \u001b[38;5;28;01mfrom\u001b[39;00m \u001b[38;5;21;01malgorithms\u001b[39;00m\u001b[38;5;21;01m.\u001b[39;00m\u001b[38;5;21;01miterative_relaxation\u001b[39;00m \u001b[38;5;28;01mimport\u001b[39;00m IterativeRelaxation\n\u001b[1;32m      2\u001b[0m \u001b[38;5;28;01mfrom\u001b[39;00m \u001b[38;5;21;01malgorithms\u001b[39;00m\u001b[38;5;21;01m.\u001b[39;00m\u001b[38;5;21;01mdecision_procedure\u001b[39;00m \u001b[38;5;28;01mimport\u001b[39;00m MarabouCoreDP\n\u001b[1;32m      3\u001b[0m \u001b[38;5;28;01mfrom\u001b[39;00m \u001b[38;5;21;01mmodels\u001b[39;00m\u001b[38;5;21;01m.\u001b[39;00m\u001b[38;5;21;01mtest_models\u001b[39;00m \u001b[38;5;28;01mimport\u001b[39;00m ProphecyPaperNetwork, TestModel\n",
      "\u001b[0;31mModuleNotFoundError\u001b[0m: No module named 'algorithms'"
     ]
    }
   ],
   "source": [
    "from algorithms.iterative_relaxation import IterativeRelaxation\n",
    "from algorithms.decision_procedure import MarabouCoreDP\n",
    "from algorithms.layer_prop_decision_tree import LayerPropDecisionTree\n",
    "from models.test_models import ProphecyPaperNetwork, TestModel\n",
    "import torch\n",
    "from torch import nn\n",
    "import numpy as np\n",
    "import pandas as pd  "
   ]
  },
  {
   "cell_type": "markdown",
   "id": "9bb16630",
   "metadata": {},
   "source": [
    "### Labeled dataset for Prophecy paper's model"
   ]
  },
  {
   "cell_type": "code",
   "execution_count": null,
   "id": "30575db9",
   "metadata": {},
   "outputs": [],
   "source": [
    "# we'll consider a range of -50 to 50 for our inputs x1 and x2. \n",
    "# We'll iterate through all possible pairs of (x1, x2) within this range, with increments of 1\n",
    "model = ProphecyPaperNetwork()\n",
    "_act_handles, activation_signature = model.attach_relu_activation_hook()\n",
    "_out_handles, layer_outputs = model.attach_layer_output_hook()\n",
    "\n",
    "\n",
    "def satisfies_postcond(output: list, postcond: int):\n",
    "  # if postcond is y1, then y1 must be greater than every other class. \n",
    "  postcond_var = output[postcond]\n",
    "  result = True\n",
    "  for index, val in enumerate(output):\n",
    "    if index == postcond: continue\n",
    "    result = result and (postcond_var > val)\n",
    "  result = 1 if result == True else -1\n",
    "  return result\n",
    "\n",
    "def create_training_df(inputs, postcond: int):\n",
    "  data = []\n",
    "  for input_data in inputs:\n",
    "    X = torch.tensor([input_data], dtype=torch.float)\n",
    "    logits = model(X)\n",
    "    prediction_prob = nn.Softmax(dim=1)(logits)\n",
    "    y_pred = prediction_prob.argmax(1)\n",
    "    output = layer_outputs[\"final_output\"][0].tolist()\n",
    "    \n",
    "    data_point = { \n",
    "      \"input\": input_data, \n",
    "      \"output\": output, \n",
    "      \"satisfies_postcon\": satisfies_postcond(output, postcond) \n",
    "    }\n",
    "    for name, layer_activation in activation_signature.items():\n",
    "      data_point[name] = [1 if val == \"ON\" else 0 for val in layer_activation]\n",
    "    data.append(data_point)\n",
    "    \n",
    "  return pd.DataFrame(data)"
   ]
  },
  {
   "cell_type": "code",
   "execution_count": null,
   "id": "b2949a58",
   "metadata": {},
   "outputs": [],
   "source": [
    "# create input pairs for model\n",
    "inputs = []\n",
    "for x1 in np.arange(-50, 51, 1):\n",
    "  for x2 in np.arange(-50, 51, 1):\n",
    "    inputs.append([x1, x2])\n",
    "\n",
    "df = create_training_df(inputs, 0)\n",
    "print(len(df))\n",
    "df.head(10)"
   ]
  },
  {
   "cell_type": "markdown",
   "id": "d96337b9",
   "metadata": {},
   "source": [
    "### Decision tree learning to find potential layer properties"
   ]
  },
  {
   "cell_type": "code",
   "execution_count": null,
   "id": "874455d0",
   "metadata": {},
   "outputs": [],
   "source": [
    "decision_tree = LayerPropDecisionTree(df, X_col=\"linear_relu_stack.1\", Y_col=\"satisfies_postcon\")\n",
    "decision_tree.get_potential_layer_properties()"
   ]
  },
  {
   "cell_type": "code",
   "execution_count": null,
   "id": "9fedd80a",
   "metadata": {},
   "outputs": [],
   "source": [
    "decision_tree.visualize_tree()"
   ]
  },
  {
   "cell_type": "code",
   "execution_count": null,
   "id": "4a114b06",
   "metadata": {},
   "outputs": [],
   "source": []
  },
  {
   "cell_type": "code",
   "execution_count": null,
   "id": "9b26b505",
   "metadata": {},
   "outputs": [],
   "source": []
  }
 ],
 "metadata": {
  "kernelspec": {
   "display_name": "Python 3 (ipykernel)",
   "language": "python",
   "name": "python3"
  },
  "language_info": {
   "codemirror_mode": {
    "name": "ipython",
    "version": 3
   },
   "file_extension": ".py",
   "mimetype": "text/x-python",
   "name": "python",
   "nbconvert_exporter": "python",
   "pygments_lexer": "ipython3",
   "version": "3.10.9"
  }
 },
 "nbformat": 4,
 "nbformat_minor": 5
}
