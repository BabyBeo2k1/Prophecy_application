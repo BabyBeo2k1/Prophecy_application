{
 "cells": [
  {
   "cell_type": "code",
   "execution_count": null,
   "id": "b96e89e4",
   "metadata": {},
   "outputs": [],
   "source": [
    "import torch\n",
    "import copy\n",
    "import numpy as np\n",
    "import pandas as pd  \n",
    "\n",
    "from torch import nn\n",
    "from algorithms.iterative_relaxation import IterativeRelaxation\n",
    "from algorithms.decision_procedure import MarabouCoreDP\n",
    "from algorithms.decision_tree import DecisionTree\n",
    "\n",
    "from models.test_models import ProphecyPaperNetwork, TestModel\n",
    "from models.acasxu_1_1 import Acasxu1_1\n",
    "from models.utils import attach_relu_activation_hook, attach_layer_output_hook, get_layers_info, turn_bool_activation_to_int"
   ]
  },
  {
   "cell_type": "markdown",
   "id": "9bb16630",
   "metadata": {},
   "source": [
    "### Labeled dataset for Prophecy paper's model"
   ]
  },
  {
   "cell_type": "code",
   "execution_count": null,
   "id": "30575db9",
   "metadata": {},
   "outputs": [],
   "source": [
    "# we'll consider a range of -50 to 50 for our inputs x1 and x2. \n",
    "# We'll iterate through all possible pairs of (x1, x2) within this range, with increments of 1\n",
    "model = ProphecyPaperNetwork()\n",
    "_act_handles, activation_signature = attach_relu_activation_hook(model)\n",
    "_out_handles, layer_outputs = attach_layer_output_hook(model)\n",
    "\n",
    "\n",
    "def satisfies_postcond(output: list, postcond: int):\n",
    "  # if postcond is y1, then y1 must be greater than every other class. \n",
    "  postcond_var = output[postcond]\n",
    "  result = True\n",
    "  for index, val in enumerate(output):\n",
    "    if index == postcond: continue\n",
    "    result = result and (postcond_var > val)\n",
    "  result = 1 if result == True else -1\n",
    "  return result\n",
    "\n",
    "def create_training_df(inputs, outputs, activation_signature, postcond: int):\n",
    "  data = []\n",
    "  for index, input_data in enumerate(inputs):    \n",
    "    output = outputs[index].tolist()\n",
    "    data_point = { \n",
    "      \"input\": input_data, \n",
    "      \"output\": output, \n",
    "      \"satisfies_postcon\": satisfies_postcond(output, postcond) \n",
    "    }\n",
    "    \n",
    "    for name, layer_activation in activation_signature.items():\n",
    "      data_point[name] = layer_activation[index]\n",
    "    data.append(data_point)\n",
    "    \n",
    "  return pd.DataFrame(data)"
   ]
  },
  {
   "cell_type": "code",
   "execution_count": null,
   "id": "b2949a58",
   "metadata": {},
   "outputs": [],
   "source": [
    "# create input pairs for model\n",
    "inputs = []\n",
    "for x1 in np.arange(-50, 51, 1):\n",
    "  for x2 in np.arange(-50, 51, 1):\n",
    "    inputs.append([x1, x2])\n",
    "    \n",
    "_outputs = model(torch.tensor(inputs, dtype=torch.float32))\n",
    "activation_signature = turn_bool_activation_to_int(activation_signature, to_list=True)\n",
    "\n",
    "df = create_training_df(inputs, layer_outputs[\"final_output\"], activation_signature, 0)\n",
    "print(len(df))\n",
    "df.head(10)"
   ]
  },
  {
   "cell_type": "markdown",
   "id": "d96337b9",
   "metadata": {},
   "source": [
    "### Decision tree learning to find potential layer properties"
   ]
  },
  {
   "cell_type": "code",
   "execution_count": null,
   "id": "874455d0",
   "metadata": {},
   "outputs": [],
   "source": [
    "layer_name = \"linear_relu_stack.1\"\n",
    "decision_tree = DecisionTree(df, X_col=layer_name, Y_col=\"satisfies_postcon\")\n",
    "leaves_with_activation_pattern = decision_tree.get_potential_layer_properties()\n",
    "leaves_with_activation_pattern"
   ]
  },
  {
   "cell_type": "code",
   "execution_count": null,
   "id": "43962cc6",
   "metadata": {},
   "outputs": [],
   "source": [
    "decision_tree.visualize_tree()"
   ]
  },
  {
   "cell_type": "code",
   "execution_count": null,
   "id": "2137f51b",
   "metadata": {},
   "outputs": [],
   "source": [
    "dp = MarabouCoreDP()\n",
    "result = []\n",
    "for leaf_data in leaves_with_activation_pattern:\n",
    "  decision_pattern = { layer_name: leaf_data[\"activation_pattern\"] }\n",
    "  print(decision_pattern)\n",
    "  input_ranges = [[-100, 100], [-100, 100]]\n",
    "  specification = [(np.array([[1, -1]]), np.array([0]))] # class = y1 (0)\n",
    "  status, _, _, _ = dp.solve(decision_pattern, model, input_ranges, specification)\n",
    "  result.append({\"decision_pattern\": decision_pattern, \"status\": status})\n",
    "result"
   ]
  },
  {
   "cell_type": "markdown",
   "id": "d6db9d55",
   "metadata": {},
   "source": [
    "### Under-approximation box"
   ]
  },
  {
   "cell_type": "code",
   "execution_count": null,
   "id": "719c7954",
   "metadata": {},
   "outputs": [],
   "source": [
    "from algorithms.under_approximation_box import UnderApproximationBox\n",
    "\n",
    "box = UnderApproximationBox()\n",
    "input_property = {'linear_relu_stack.1': ['ON', 'OFF']}\n",
    "model = ProphecyPaperNetwork()"
   ]
  },
  {
   "cell_type": "code",
   "execution_count": null,
   "id": "4f3865b6",
   "metadata": {},
   "outputs": [],
   "source": [
    "# get max and min of each input attributes from support\n",
    "sat_postcon_df = df[df[\"satisfies_postcon\"] == 1]\n",
    "support_df = sat_postcon_df[sat_postcon_df['linear_relu_stack.1'].apply(lambda x: np.array_equal(x, [1, 0]))]\n",
    "support_df.head(20)"
   ]
  },
  {
   "cell_type": "code",
   "execution_count": null,
   "id": "674e232e",
   "metadata": {},
   "outputs": [],
   "source": [
    "num_of_inputs = len(df.loc[0][\"input\"])\n",
    "\n",
    "attr_max = []\n",
    "attr_min = []\n",
    "\n",
    "# attr_max = [50, -1] # for testing\n",
    "# attr_min = [-49, -50] # for testing\n",
    "for i in range(num_of_inputs):\n",
    "  attr_max.append(support_df['input'].apply(lambda x: x[i]).max())\n",
    "  attr_min.append(support_df['input'].apply(lambda x: x[i]).min())\n",
    "\n",
    "print(attr_min)  \n",
    "print(attr_max)"
   ]
  },
  {
   "cell_type": "code",
   "execution_count": null,
   "id": "1fa04989",
   "metadata": {},
   "outputs": [],
   "source": [
    "problem, result = box.solve(input_property, attr_min, attr_max, model)"
   ]
  },
  {
   "cell_type": "code",
   "execution_count": null,
   "id": "38cc730b",
   "metadata": {},
   "outputs": [],
   "source": [
    "import pulp\n",
    "pulp.LpStatus[result]"
   ]
  },
  {
   "cell_type": "code",
   "execution_count": null,
   "id": "f65630ee",
   "metadata": {},
   "outputs": [],
   "source": []
  }
 ],
 "metadata": {
  "kernelspec": {
   "display_name": "Python 3 (ipykernel)",
   "language": "python",
   "name": "python3"
  },
  "language_info": {
   "codemirror_mode": {
    "name": "ipython",
    "version": 3
   },
   "file_extension": ".py",
   "mimetype": "text/x-python",
   "name": "python",
   "nbconvert_exporter": "python",
   "pygments_lexer": "ipython3",
   "version": "3.10.9"
  }
 },
 "nbformat": 4,
 "nbformat_minor": 5
}
