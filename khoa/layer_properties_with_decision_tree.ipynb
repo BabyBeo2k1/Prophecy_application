{
 "cells": [
  {
   "cell_type": "code",
   "execution_count": 1,
   "id": "b96e89e4",
   "metadata": {},
   "outputs": [
    {
     "name": "stdout",
     "output_type": "stream",
     "text": [
      "WARNING:tensorflow:From /Users/khoanguyen-cp/anaconda3/lib/python3.10/site-packages/tensorflow/python/compat/v2_compat.py:107: disable_resource_variables (from tensorflow.python.ops.variable_scope) is deprecated and will be removed in a future version.\n",
      "Instructions for updating:\n",
      "non-resource variables are not supported in the long term\n"
     ]
    }
   ],
   "source": [
    "from algorithms.iterative_relaxation import IterativeRelaxation\n",
    "from algorithms.decision_procedure import MarabouCoreDP\n",
    "from algorithms.decision_tree import DecisionTree\n",
    "from models.test_models import ProphecyPaperNetwork, TestModel\n",
    "\n",
    "import torch\n",
    "from torch import nn\n",
    "import numpy as np\n",
    "import pandas as pd  "
   ]
  },
  {
   "cell_type": "markdown",
   "id": "9bb16630",
   "metadata": {},
   "source": [
    "### Labeled dataset for Prophecy paper's model"
   ]
  },
  {
   "cell_type": "code",
   "execution_count": 2,
   "id": "30575db9",
   "metadata": {},
   "outputs": [],
   "source": [
    "# we'll consider a range of -50 to 50 for our inputs x1 and x2. \n",
    "# We'll iterate through all possible pairs of (x1, x2) within this range, with increments of 1\n",
    "model = ProphecyPaperNetwork()\n",
    "_act_handles, activation_signature = model.attach_relu_activation_hook()\n",
    "_out_handles, layer_outputs = model.attach_layer_output_hook()\n",
    "\n",
    "\n",
    "def satisfies_postcond(output: list, postcond: int):\n",
    "  # if postcond is y1, then y1 must be greater than every other class. \n",
    "  postcond_var = output[postcond]\n",
    "  result = True\n",
    "  for index, val in enumerate(output):\n",
    "    if index == postcond: continue\n",
    "    result = result and (postcond_var > val)\n",
    "  result = 1 if result == True else -1\n",
    "  return result\n",
    "\n",
    "def create_training_df(inputs, postcond: int):\n",
    "  data = []\n",
    "  for input_data in inputs:\n",
    "    X = torch.tensor([input_data], dtype=torch.float)\n",
    "    logits = model(X)\n",
    "    prediction_prob = nn.Softmax(dim=1)(logits)\n",
    "    y_pred = prediction_prob.argmax(1)\n",
    "    output = layer_outputs[\"final_output\"][0].tolist()\n",
    "    \n",
    "    data_point = { \n",
    "      \"input\": input_data, \n",
    "      \"output\": output, \n",
    "      \"satisfies_postcon\": satisfies_postcond(output, postcond) \n",
    "    }\n",
    "    for name, layer_activation in activation_signature.items():\n",
    "      data_point[name] = [1 if val == \"ON\" else 0 for val in layer_activation]\n",
    "    data.append(data_point)\n",
    "    \n",
    "  return pd.DataFrame(data)"
   ]
  },
  {
   "cell_type": "code",
   "execution_count": 3,
   "id": "b2949a58",
   "metadata": {},
   "outputs": [
    {
     "name": "stdout",
     "output_type": "stream",
     "text": [
      "10201\n"
     ]
    },
    {
     "data": {
      "text/html": [
       "<div>\n",
       "<style scoped>\n",
       "    .dataframe tbody tr th:only-of-type {\n",
       "        vertical-align: middle;\n",
       "    }\n",
       "\n",
       "    .dataframe tbody tr th {\n",
       "        vertical-align: top;\n",
       "    }\n",
       "\n",
       "    .dataframe thead th {\n",
       "        text-align: right;\n",
       "    }\n",
       "</style>\n",
       "<table border=\"1\" class=\"dataframe\">\n",
       "  <thead>\n",
       "    <tr style=\"text-align: right;\">\n",
       "      <th></th>\n",
       "      <th>input</th>\n",
       "      <th>output</th>\n",
       "      <th>satisfies_postcon</th>\n",
       "      <th>linear_relu_stack.1</th>\n",
       "      <th>linear_relu_stack.3</th>\n",
       "    </tr>\n",
       "  </thead>\n",
       "  <tbody>\n",
       "    <tr>\n",
       "      <th>0</th>\n",
       "      <td>[-50, -50]</td>\n",
       "      <td>[0.0, 0.0]</td>\n",
       "      <td>-1</td>\n",
       "      <td>[0, 0]</td>\n",
       "      <td>[0, 0]</td>\n",
       "    </tr>\n",
       "    <tr>\n",
       "      <th>1</th>\n",
       "      <td>[-50, -49]</td>\n",
       "      <td>[0.0, 0.0]</td>\n",
       "      <td>-1</td>\n",
       "      <td>[0, 0]</td>\n",
       "      <td>[0, 0]</td>\n",
       "    </tr>\n",
       "    <tr>\n",
       "      <th>2</th>\n",
       "      <td>[-50, -48]</td>\n",
       "      <td>[0.0, 0.0]</td>\n",
       "      <td>-1</td>\n",
       "      <td>[0, 0]</td>\n",
       "      <td>[0, 0]</td>\n",
       "    </tr>\n",
       "    <tr>\n",
       "      <th>3</th>\n",
       "      <td>[-50, -47]</td>\n",
       "      <td>[0.0, 0.0]</td>\n",
       "      <td>-1</td>\n",
       "      <td>[0, 0]</td>\n",
       "      <td>[0, 0]</td>\n",
       "    </tr>\n",
       "    <tr>\n",
       "      <th>4</th>\n",
       "      <td>[-50, -46]</td>\n",
       "      <td>[0.0, 0.0]</td>\n",
       "      <td>-1</td>\n",
       "      <td>[0, 0]</td>\n",
       "      <td>[0, 0]</td>\n",
       "    </tr>\n",
       "    <tr>\n",
       "      <th>5</th>\n",
       "      <td>[-50, -45]</td>\n",
       "      <td>[0.0, 0.0]</td>\n",
       "      <td>-1</td>\n",
       "      <td>[0, 0]</td>\n",
       "      <td>[0, 0]</td>\n",
       "    </tr>\n",
       "    <tr>\n",
       "      <th>6</th>\n",
       "      <td>[-50, -44]</td>\n",
       "      <td>[0.0, 0.0]</td>\n",
       "      <td>-1</td>\n",
       "      <td>[0, 0]</td>\n",
       "      <td>[0, 0]</td>\n",
       "    </tr>\n",
       "    <tr>\n",
       "      <th>7</th>\n",
       "      <td>[-50, -43]</td>\n",
       "      <td>[0.0, 0.0]</td>\n",
       "      <td>-1</td>\n",
       "      <td>[0, 0]</td>\n",
       "      <td>[0, 0]</td>\n",
       "    </tr>\n",
       "    <tr>\n",
       "      <th>8</th>\n",
       "      <td>[-50, -42]</td>\n",
       "      <td>[0.0, 0.0]</td>\n",
       "      <td>-1</td>\n",
       "      <td>[0, 0]</td>\n",
       "      <td>[0, 0]</td>\n",
       "    </tr>\n",
       "    <tr>\n",
       "      <th>9</th>\n",
       "      <td>[-50, -41]</td>\n",
       "      <td>[0.0, 0.0]</td>\n",
       "      <td>-1</td>\n",
       "      <td>[0, 0]</td>\n",
       "      <td>[0, 0]</td>\n",
       "    </tr>\n",
       "  </tbody>\n",
       "</table>\n",
       "</div>"
      ],
      "text/plain": [
       "        input      output  satisfies_postcon linear_relu_stack.1  \\\n",
       "0  [-50, -50]  [0.0, 0.0]                 -1              [0, 0]   \n",
       "1  [-50, -49]  [0.0, 0.0]                 -1              [0, 0]   \n",
       "2  [-50, -48]  [0.0, 0.0]                 -1              [0, 0]   \n",
       "3  [-50, -47]  [0.0, 0.0]                 -1              [0, 0]   \n",
       "4  [-50, -46]  [0.0, 0.0]                 -1              [0, 0]   \n",
       "5  [-50, -45]  [0.0, 0.0]                 -1              [0, 0]   \n",
       "6  [-50, -44]  [0.0, 0.0]                 -1              [0, 0]   \n",
       "7  [-50, -43]  [0.0, 0.0]                 -1              [0, 0]   \n",
       "8  [-50, -42]  [0.0, 0.0]                 -1              [0, 0]   \n",
       "9  [-50, -41]  [0.0, 0.0]                 -1              [0, 0]   \n",
       "\n",
       "  linear_relu_stack.3  \n",
       "0              [0, 0]  \n",
       "1              [0, 0]  \n",
       "2              [0, 0]  \n",
       "3              [0, 0]  \n",
       "4              [0, 0]  \n",
       "5              [0, 0]  \n",
       "6              [0, 0]  \n",
       "7              [0, 0]  \n",
       "8              [0, 0]  \n",
       "9              [0, 0]  "
      ]
     },
     "execution_count": 3,
     "metadata": {},
     "output_type": "execute_result"
    }
   ],
   "source": [
    "# create input pairs for model\n",
    "inputs = []\n",
    "for x1 in np.arange(-50, 51, 1):\n",
    "  for x2 in np.arange(-50, 51, 1):\n",
    "    inputs.append([x1, x2])\n",
    "\n",
    "df = create_training_df(inputs, 0)\n",
    "print(len(df))\n",
    "df.head(10)"
   ]
  },
  {
   "cell_type": "markdown",
   "id": "d96337b9",
   "metadata": {},
   "source": [
    "### Decision tree learning to find potential layer properties"
   ]
  },
  {
   "cell_type": "code",
   "execution_count": 4,
   "id": "874455d0",
   "metadata": {},
   "outputs": [
    {
     "data": {
      "text/plain": [
       "[{'node_id': 3,\n",
       "  'sat_postcond': True,\n",
       "  'support': 2550,\n",
       "  'activation_pattern': ['ON', 'OFF']}]"
      ]
     },
     "execution_count": 4,
     "metadata": {},
     "output_type": "execute_result"
    }
   ],
   "source": [
    "layer_name = \"linear_relu_stack.1\"\n",
    "decision_tree = DecisionTree(df, X_col=layer_name, Y_col=\"satisfies_postcon\")\n",
    "leaves_with_activation_pattern = decision_tree.get_potential_layer_properties()\n",
    "leaves_with_activation_pattern"
   ]
  },
  {
   "cell_type": "code",
   "execution_count": 5,
   "id": "43962cc6",
   "metadata": {},
   "outputs": [
    {
     "data": {
      "image/svg+xml": [
       "<?xml version=\"1.0\" encoding=\"UTF-8\" standalone=\"no\"?>\n",
       "<!DOCTYPE svg PUBLIC \"-//W3C//DTD SVG 1.1//EN\"\n",
       " \"http://www.w3.org/Graphics/SVG/1.1/DTD/svg11.dtd\">\n",
       "<!-- Generated by graphviz version 2.50.0 (0)\n",
       " -->\n",
       "<!-- Title: Tree Pages: 1 -->\n",
       "<svg width=\"347pt\" height=\"314pt\"\n",
       " viewBox=\"0.00 0.00 346.50 314.00\" xmlns=\"http://www.w3.org/2000/svg\" xmlns:xlink=\"http://www.w3.org/1999/xlink\">\n",
       "<g id=\"graph0\" class=\"graph\" transform=\"scale(1 1) rotate(0) translate(4 310)\">\n",
       "<title>Tree</title>\n",
       "<polygon fill=\"white\" stroke=\"transparent\" points=\"-4,4 -4,-310 342.5,-310 342.5,4 -4,4\"/>\n",
       "<!-- 0 -->\n",
       "<g id=\"node1\" class=\"node\">\n",
       "<title>0</title>\n",
       "<path fill=\"#f8decc\" stroke=\"black\" d=\"M187.5,-306C187.5,-306 71.5,-306 71.5,-306 65.5,-306 59.5,-300 59.5,-294 59.5,-294 59.5,-235 59.5,-235 59.5,-229 65.5,-223 71.5,-223 71.5,-223 187.5,-223 187.5,-223 193.5,-223 199.5,-229 199.5,-235 199.5,-235 199.5,-294 199.5,-294 199.5,-300 193.5,-306 187.5,-306\"/>\n",
       "<text text-anchor=\"start\" x=\"105\" y=\"-290.8\" font-family=\"Helvetica,sans-Serif\" font-size=\"14.00\">n0 ≤ 0.5</text>\n",
       "<text text-anchor=\"start\" x=\"94\" y=\"-275.8\" font-family=\"Helvetica,sans-Serif\" font-size=\"14.00\">gini = 0.489</text>\n",
       "<text text-anchor=\"start\" x=\"77\" y=\"-260.8\" font-family=\"Helvetica,sans-Serif\" font-size=\"14.00\">samples = 10201</text>\n",
       "<text text-anchor=\"start\" x=\"67.5\" y=\"-245.8\" font-family=\"Helvetica,sans-Serif\" font-size=\"14.00\">value = [5858, 4343]</text>\n",
       "<text text-anchor=\"start\" x=\"91.5\" y=\"-230.8\" font-family=\"Helvetica,sans-Serif\" font-size=\"14.00\">class = false</text>\n",
       "</g>\n",
       "<!-- 1 -->\n",
       "<g id=\"node2\" class=\"node\">\n",
       "<title>1</title>\n",
       "<path fill=\"#e58139\" stroke=\"black\" d=\"M105,-179.5C105,-179.5 12,-179.5 12,-179.5 6,-179.5 0,-173.5 0,-167.5 0,-167.5 0,-123.5 0,-123.5 0,-117.5 6,-111.5 12,-111.5 12,-111.5 105,-111.5 105,-111.5 111,-111.5 117,-117.5 117,-123.5 117,-123.5 117,-167.5 117,-167.5 117,-173.5 111,-179.5 105,-179.5\"/>\n",
       "<text text-anchor=\"start\" x=\"30.5\" y=\"-164.3\" font-family=\"Helvetica,sans-Serif\" font-size=\"14.00\">gini = 0.0</text>\n",
       "<text text-anchor=\"start\" x=\"10\" y=\"-149.3\" font-family=\"Helvetica,sans-Serif\" font-size=\"14.00\">samples = 5151</text>\n",
       "<text text-anchor=\"start\" x=\"8\" y=\"-134.3\" font-family=\"Helvetica,sans-Serif\" font-size=\"14.00\">value = [5151, 0]</text>\n",
       "<text text-anchor=\"start\" x=\"20.5\" y=\"-119.3\" font-family=\"Helvetica,sans-Serif\" font-size=\"14.00\">class = false</text>\n",
       "</g>\n",
       "<!-- 0&#45;&gt;1 -->\n",
       "<g id=\"edge1\" class=\"edge\">\n",
       "<title>0&#45;&gt;1</title>\n",
       "<path fill=\"none\" stroke=\"black\" d=\"M104.87,-222.91C98.1,-211.76 90.76,-199.66 83.95,-188.44\"/>\n",
       "<polygon fill=\"black\" stroke=\"black\" points=\"86.81,-186.4 78.63,-179.67 80.82,-190.03 86.81,-186.4\"/>\n",
       "<text text-anchor=\"middle\" x=\"72.69\" y=\"-200.25\" font-family=\"Helvetica,sans-Serif\" font-size=\"14.00\">True</text>\n",
       "</g>\n",
       "<!-- 2 -->\n",
       "<g id=\"node3\" class=\"node\">\n",
       "<title>2</title>\n",
       "<path fill=\"#59ade9\" stroke=\"black\" d=\"M255.5,-187C255.5,-187 147.5,-187 147.5,-187 141.5,-187 135.5,-181 135.5,-175 135.5,-175 135.5,-116 135.5,-116 135.5,-110 141.5,-104 147.5,-104 147.5,-104 255.5,-104 255.5,-104 261.5,-104 267.5,-110 267.5,-116 267.5,-116 267.5,-175 267.5,-175 267.5,-181 261.5,-187 255.5,-187\"/>\n",
       "<text text-anchor=\"start\" x=\"177\" y=\"-171.8\" font-family=\"Helvetica,sans-Serif\" font-size=\"14.00\">n1 ≤ 0.5</text>\n",
       "<text text-anchor=\"start\" x=\"166\" y=\"-156.8\" font-family=\"Helvetica,sans-Serif\" font-size=\"14.00\">gini = 0.241</text>\n",
       "<text text-anchor=\"start\" x=\"153\" y=\"-141.8\" font-family=\"Helvetica,sans-Serif\" font-size=\"14.00\">samples = 5050</text>\n",
       "<text text-anchor=\"start\" x=\"143.5\" y=\"-126.8\" font-family=\"Helvetica,sans-Serif\" font-size=\"14.00\">value = [707, 4343]</text>\n",
       "<text text-anchor=\"start\" x=\"166.5\" y=\"-111.8\" font-family=\"Helvetica,sans-Serif\" font-size=\"14.00\">class = true</text>\n",
       "</g>\n",
       "<!-- 0&#45;&gt;2 -->\n",
       "<g id=\"edge2\" class=\"edge\">\n",
       "<title>0&#45;&gt;2</title>\n",
       "<path fill=\"none\" stroke=\"black\" d=\"M154.48,-222.91C159.9,-214.1 165.68,-204.7 171.28,-195.61\"/>\n",
       "<polygon fill=\"black\" stroke=\"black\" points=\"174.3,-197.37 176.56,-187.02 168.34,-193.7 174.3,-197.37\"/>\n",
       "<text text-anchor=\"middle\" x=\"182.35\" y=\"-207.64\" font-family=\"Helvetica,sans-Serif\" font-size=\"14.00\">False</text>\n",
       "</g>\n",
       "<!-- 3 -->\n",
       "<g id=\"node4\" class=\"node\">\n",
       "<title>3</title>\n",
       "<path fill=\"#399de5\" stroke=\"black\" d=\"M176,-68C176,-68 83,-68 83,-68 77,-68 71,-62 71,-56 71,-56 71,-12 71,-12 71,-6 77,0 83,0 83,0 176,0 176,0 182,0 188,-6 188,-12 188,-12 188,-56 188,-56 188,-62 182,-68 176,-68\"/>\n",
       "<text text-anchor=\"start\" x=\"101.5\" y=\"-52.8\" font-family=\"Helvetica,sans-Serif\" font-size=\"14.00\">gini = 0.0</text>\n",
       "<text text-anchor=\"start\" x=\"81\" y=\"-37.8\" font-family=\"Helvetica,sans-Serif\" font-size=\"14.00\">samples = 2550</text>\n",
       "<text text-anchor=\"start\" x=\"79\" y=\"-22.8\" font-family=\"Helvetica,sans-Serif\" font-size=\"14.00\">value = [0, 2550]</text>\n",
       "<text text-anchor=\"start\" x=\"94.5\" y=\"-7.8\" font-family=\"Helvetica,sans-Serif\" font-size=\"14.00\">class = true</text>\n",
       "</g>\n",
       "<!-- 2&#45;&gt;3 -->\n",
       "<g id=\"edge3\" class=\"edge\">\n",
       "<title>2&#45;&gt;3</title>\n",
       "<path fill=\"none\" stroke=\"black\" d=\"M174.69,-103.73C168.93,-94.97 162.84,-85.7 157.05,-76.91\"/>\n",
       "<polygon fill=\"black\" stroke=\"black\" points=\"159.81,-74.73 151.4,-68.3 153.97,-78.58 159.81,-74.73\"/>\n",
       "</g>\n",
       "<!-- 4 -->\n",
       "<g id=\"node5\" class=\"node\">\n",
       "<title>4</title>\n",
       "<path fill=\"#87c4ef\" stroke=\"black\" d=\"M326.5,-68C326.5,-68 218.5,-68 218.5,-68 212.5,-68 206.5,-62 206.5,-56 206.5,-56 206.5,-12 206.5,-12 206.5,-6 212.5,0 218.5,0 218.5,0 326.5,0 326.5,0 332.5,0 338.5,-6 338.5,-12 338.5,-12 338.5,-56 338.5,-56 338.5,-62 332.5,-68 326.5,-68\"/>\n",
       "<text text-anchor=\"start\" x=\"237\" y=\"-52.8\" font-family=\"Helvetica,sans-Serif\" font-size=\"14.00\">gini = 0.406</text>\n",
       "<text text-anchor=\"start\" x=\"224\" y=\"-37.8\" font-family=\"Helvetica,sans-Serif\" font-size=\"14.00\">samples = 2500</text>\n",
       "<text text-anchor=\"start\" x=\"214.5\" y=\"-22.8\" font-family=\"Helvetica,sans-Serif\" font-size=\"14.00\">value = [707, 1793]</text>\n",
       "<text text-anchor=\"start\" x=\"237.5\" y=\"-7.8\" font-family=\"Helvetica,sans-Serif\" font-size=\"14.00\">class = true</text>\n",
       "</g>\n",
       "<!-- 2&#45;&gt;4 -->\n",
       "<g id=\"edge4\" class=\"edge\">\n",
       "<title>2&#45;&gt;4</title>\n",
       "<path fill=\"none\" stroke=\"black\" d=\"M227.94,-103.73C233.62,-94.97 239.62,-85.7 245.33,-76.91\"/>\n",
       "<polygon fill=\"black\" stroke=\"black\" points=\"248.4,-78.59 250.91,-68.3 242.53,-74.79 248.4,-78.59\"/>\n",
       "</g>\n",
       "</g>\n",
       "</svg>\n"
      ],
      "text/plain": [
       "<graphviz.sources.Source at 0x2ae0f70d0>"
      ]
     },
     "execution_count": 5,
     "metadata": {},
     "output_type": "execute_result"
    }
   ],
   "source": [
    "decision_tree.visualize_tree()"
   ]
  },
  {
   "cell_type": "code",
   "execution_count": 6,
   "id": "2137f51b",
   "metadata": {},
   "outputs": [
    {
     "name": "stdout",
     "output_type": "stream",
     "text": [
      "{'linear_relu_stack.1': ['ON', 'OFF']}\n"
     ]
    },
    {
     "data": {
      "text/plain": [
       "[{'decision_pattern': {'linear_relu_stack.1': ['ON', 'OFF']},\n",
       "  'status': 'unsat'}]"
      ]
     },
     "execution_count": 6,
     "metadata": {},
     "output_type": "execute_result"
    }
   ],
   "source": [
    "dp = MarabouCoreDP()\n",
    "result = []\n",
    "for leaf_data in leaves_with_activation_pattern:\n",
    "  decision_pattern = { layer_name: leaf_data[\"activation_pattern\"] }\n",
    "  print(decision_pattern)\n",
    "  status, _, _, _ = dp.solve(decision_pattern, model, 0)\n",
    "  result.append({\"decision_pattern\": decision_pattern, \"status\": status})\n",
    "result"
   ]
  },
  {
   "cell_type": "markdown",
   "id": "b476c024",
   "metadata": {},
   "source": [
    "### Under-approximation box"
   ]
  },
  {
   "cell_type": "code",
   "execution_count": 7,
   "id": "719c7954",
   "metadata": {},
   "outputs": [],
   "source": [
    "from algorithms.under_approximation_box import UnderApproximationBox\n",
    "\n",
    "box = UnderApproximationBox()\n",
    "input_property = {'linear_relu_stack.1': ['ON', 'OFF']}\n",
    "model = ProphecyPaperNetwork()"
   ]
  },
  {
   "cell_type": "code",
   "execution_count": 8,
   "id": "a09ea793",
   "metadata": {},
   "outputs": [
    {
     "data": {
      "text/plain": [
       "2550"
      ]
     },
     "execution_count": 8,
     "metadata": {},
     "output_type": "execute_result"
    }
   ],
   "source": [
    "# get max and min of each input attributes from support\n",
    "sat_postcon_df = df[df[\"satisfies_postcon\"] == 1]\n",
    "support_df = sat_postcon_df[sat_postcon_df['linear_relu_stack.1'].apply(lambda x: np.array_equal(x, [1, 0]))]\n",
    "len(support_df)"
   ]
  },
  {
   "cell_type": "code",
   "execution_count": 9,
   "id": "b61aa252",
   "metadata": {},
   "outputs": [
    {
     "name": "stdout",
     "output_type": "stream",
     "text": [
      "[-49, -50]\n",
      "[50, -1]\n"
     ]
    }
   ],
   "source": [
    "num_of_inputs = len(df.loc[0][\"input\"])\n",
    "\n",
    "attr_max = []\n",
    "attr_min = []\n",
    "for i in range(num_of_inputs):\n",
    "  attr_max.append(support_df['input'].apply(lambda x: x[i]).max())\n",
    "  attr_min.append(support_df['input'].apply(lambda x: x[i]).min())\n",
    "\n",
    "print(attr_min)  \n",
    "print(attr_max)"
   ]
  },
  {
   "cell_type": "code",
   "execution_count": 10,
   "id": "97eca243",
   "metadata": {},
   "outputs": [
    {
     "name": "stdout",
     "output_type": "stream",
     "text": [
      "Welcome to the CBC MILP Solver \n",
      "Version: 2.10.3 \n",
      "Build Date: Dec 15 2019 \n",
      "\n",
      "command line - /Users/khoanguyen-cp/anaconda3/lib/python3.10/site-packages/pulp/solverdir/cbc/osx/64/cbc /var/folders/w_/0gmtp5d126l9hs74m0q5wgmr0000gq/T/a31b1f3e72c7419bb40618535e4a2a14-pulp.mps max timeMode elapsed branch printingOptions all solution /var/folders/w_/0gmtp5d126l9hs74m0q5wgmr0000gq/T/a31b1f3e72c7419bb40618535e4a2a14-pulp.sol (default strategy 1)\n",
      "At line 2 NAME          MODEL\n",
      "At line 3 ROWS\n",
      "At line 7 COLUMNS\n",
      "At line 16 RHS\n",
      "At line 19 BOUNDS\n",
      "At line 28 ENDATA\n",
      "Problem MODEL has 2 rows, 4 columns and 4 elements\n",
      "Coin0008I MODEL read with 0 errors\n",
      "Option for timeMode changed from cpu to elapsed\n",
      "Presolve 0 (-2) rows, 0 (-4) columns and 0 (-4) elements\n",
      "Empty problem - 0 rows, 0 columns and 0 elements\n",
      "Optimal - objective value 99\n",
      "After Postsolve, objective 99, infeasibilities - dual 0 (0), primal 0 (0)\n",
      "Optimal objective 99 - 0 iterations time 0.002, Presolve 0.00\n",
      "Option for printingOptions changed from normal to all\n",
      "Total time (CPU seconds):       0.00   (Wallclock seconds):       0.00\n",
      "\n",
      "d_hi_0 = 50.0\n",
      "d_hi_1 = -50.0\n",
      "d_lo_0 = -49.0\n",
      "d_lo_1 = -50.0\n"
     ]
    }
   ],
   "source": [
    "problem, result = box.solve(input_property, attr_min, attr_max, model)"
   ]
  },
  {
   "cell_type": "code",
   "execution_count": 11,
   "id": "0f63c24d",
   "metadata": {},
   "outputs": [
    {
     "name": "stdout",
     "output_type": "stream",
     "text": [
      "d_hi_0 = 50.0\n",
      "d_hi_1 = -50.0\n",
      "d_lo_0 = -49.0\n",
      "d_lo_1 = -50.0\n"
     ]
    }
   ],
   "source": [
    "for v in problem.variables():\n",
    "  print(v.name, \"=\", v.varValue)"
   ]
  }
 ],
 "metadata": {
  "kernelspec": {
   "display_name": "Python 3 (ipykernel)",
   "language": "python",
   "name": "python3"
  },
  "language_info": {
   "codemirror_mode": {
    "name": "ipython",
    "version": 3
   },
   "file_extension": ".py",
   "mimetype": "text/x-python",
   "name": "python",
   "nbconvert_exporter": "python",
   "pygments_lexer": "ipython3",
   "version": "3.10.9"
  }
 },
 "nbformat": 4,
 "nbformat_minor": 5
}
