{
 "cells": [
  {
   "cell_type": "code",
   "execution_count": 1,
   "id": "b96e89e4",
   "metadata": {},
   "outputs": [
    {
     "name": "stdout",
     "output_type": "stream",
     "text": [
      "WARNING:tensorflow:From /Users/khoanguyen-cp/anaconda3/lib/python3.10/site-packages/tensorflow/python/compat/v2_compat.py:107: disable_resource_variables (from tensorflow.python.ops.variable_scope) is deprecated and will be removed in a future version.\n",
      "Instructions for updating:\n",
      "non-resource variables are not supported in the long term\n"
     ]
    }
   ],
   "source": [
    "from algorithms.iterative_relaxation import IterativeRelaxation\n",
    "from algorithms.decision_procedure import MarabouCoreDP\n",
    "from algorithms.decision_tree import DecisionTree\n",
    "from models.test_models import ProphecyPaperNetwork, TestModel\n",
    "\n",
    "import torch\n",
    "from torch import nn\n",
    "import numpy as np\n",
    "import pandas as pd  "
   ]
  },
  {
   "cell_type": "markdown",
   "id": "9bb16630",
   "metadata": {},
   "source": [
    "### Labeled dataset for Prophecy paper's model"
   ]
  },
  {
   "cell_type": "code",
   "execution_count": 2,
   "id": "30575db9",
   "metadata": {},
   "outputs": [],
   "source": [
    "# we'll consider a range of -50 to 50 for our inputs x1 and x2. \n",
    "# We'll iterate through all possible pairs of (x1, x2) within this range, with increments of 1\n",
    "model = ProphecyPaperNetwork()\n",
    "_act_handles, activation_signature = model.attach_relu_activation_hook()\n",
    "_out_handles, layer_outputs = model.attach_layer_output_hook()\n",
    "\n",
    "\n",
    "def satisfies_postcond(output: list, postcond: int):\n",
    "  # if postcond is y1, then y1 must be greater than every other class. \n",
    "  postcond_var = output[postcond]\n",
    "  result = True\n",
    "  for index, val in enumerate(output):\n",
    "    if index == postcond: continue\n",
    "    result = result and (postcond_var > val)\n",
    "  result = 1 if result == True else -1\n",
    "  return result\n",
    "\n",
    "def create_training_df(inputs, postcond: int):\n",
    "  data = []\n",
    "  for input_data in inputs:\n",
    "    X = torch.tensor([input_data], dtype=torch.float)\n",
    "    logits = model(X)\n",
    "    prediction_prob = nn.Softmax(dim=1)(logits)\n",
    "    y_pred = prediction_prob.argmax(1)\n",
    "    output = layer_outputs[\"final_output\"][0].tolist()\n",
    "    \n",
    "    data_point = { \n",
    "      \"input\": input_data, \n",
    "      \"output\": output, \n",
    "      \"satisfies_postcon\": satisfies_postcond(output, postcond) \n",
    "    }\n",
    "    for name, layer_activation in activation_signature.items():\n",
    "      data_point[name] = [1 if val == \"ON\" else 0 for val in layer_activation]\n",
    "    data.append(data_point)\n",
    "    \n",
    "  return pd.DataFrame(data)"
   ]
  },
  {
   "cell_type": "code",
   "execution_count": 3,
   "id": "b2949a58",
   "metadata": {},
   "outputs": [
    {
     "name": "stdout",
     "output_type": "stream",
     "text": [
      "10201\n"
     ]
    },
    {
     "data": {
      "text/html": [
       "<div>\n",
       "<style scoped>\n",
       "    .dataframe tbody tr th:only-of-type {\n",
       "        vertical-align: middle;\n",
       "    }\n",
       "\n",
       "    .dataframe tbody tr th {\n",
       "        vertical-align: top;\n",
       "    }\n",
       "\n",
       "    .dataframe thead th {\n",
       "        text-align: right;\n",
       "    }\n",
       "</style>\n",
       "<table border=\"1\" class=\"dataframe\">\n",
       "  <thead>\n",
       "    <tr style=\"text-align: right;\">\n",
       "      <th></th>\n",
       "      <th>input</th>\n",
       "      <th>output</th>\n",
       "      <th>satisfies_postcon</th>\n",
       "      <th>linear_relu_stack.1</th>\n",
       "      <th>linear_relu_stack.3</th>\n",
       "    </tr>\n",
       "  </thead>\n",
       "  <tbody>\n",
       "    <tr>\n",
       "      <th>0</th>\n",
       "      <td>[-50, -50]</td>\n",
       "      <td>[0.0, 0.0]</td>\n",
       "      <td>-1</td>\n",
       "      <td>[0, 0]</td>\n",
       "      <td>[0, 0]</td>\n",
       "    </tr>\n",
       "    <tr>\n",
       "      <th>1</th>\n",
       "      <td>[-50, -49]</td>\n",
       "      <td>[0.0, 0.0]</td>\n",
       "      <td>-1</td>\n",
       "      <td>[0, 0]</td>\n",
       "      <td>[0, 0]</td>\n",
       "    </tr>\n",
       "    <tr>\n",
       "      <th>2</th>\n",
       "      <td>[-50, -48]</td>\n",
       "      <td>[0.0, 0.0]</td>\n",
       "      <td>-1</td>\n",
       "      <td>[0, 0]</td>\n",
       "      <td>[0, 0]</td>\n",
       "    </tr>\n",
       "    <tr>\n",
       "      <th>3</th>\n",
       "      <td>[-50, -47]</td>\n",
       "      <td>[0.0, 0.0]</td>\n",
       "      <td>-1</td>\n",
       "      <td>[0, 0]</td>\n",
       "      <td>[0, 0]</td>\n",
       "    </tr>\n",
       "    <tr>\n",
       "      <th>4</th>\n",
       "      <td>[-50, -46]</td>\n",
       "      <td>[0.0, 0.0]</td>\n",
       "      <td>-1</td>\n",
       "      <td>[0, 0]</td>\n",
       "      <td>[0, 0]</td>\n",
       "    </tr>\n",
       "    <tr>\n",
       "      <th>5</th>\n",
       "      <td>[-50, -45]</td>\n",
       "      <td>[0.0, 0.0]</td>\n",
       "      <td>-1</td>\n",
       "      <td>[0, 0]</td>\n",
       "      <td>[0, 0]</td>\n",
       "    </tr>\n",
       "    <tr>\n",
       "      <th>6</th>\n",
       "      <td>[-50, -44]</td>\n",
       "      <td>[0.0, 0.0]</td>\n",
       "      <td>-1</td>\n",
       "      <td>[0, 0]</td>\n",
       "      <td>[0, 0]</td>\n",
       "    </tr>\n",
       "    <tr>\n",
       "      <th>7</th>\n",
       "      <td>[-50, -43]</td>\n",
       "      <td>[0.0, 0.0]</td>\n",
       "      <td>-1</td>\n",
       "      <td>[0, 0]</td>\n",
       "      <td>[0, 0]</td>\n",
       "    </tr>\n",
       "    <tr>\n",
       "      <th>8</th>\n",
       "      <td>[-50, -42]</td>\n",
       "      <td>[0.0, 0.0]</td>\n",
       "      <td>-1</td>\n",
       "      <td>[0, 0]</td>\n",
       "      <td>[0, 0]</td>\n",
       "    </tr>\n",
       "    <tr>\n",
       "      <th>9</th>\n",
       "      <td>[-50, -41]</td>\n",
       "      <td>[0.0, 0.0]</td>\n",
       "      <td>-1</td>\n",
       "      <td>[0, 0]</td>\n",
       "      <td>[0, 0]</td>\n",
       "    </tr>\n",
       "  </tbody>\n",
       "</table>\n",
       "</div>"
      ],
      "text/plain": [
       "        input      output  satisfies_postcon linear_relu_stack.1  \\\n",
       "0  [-50, -50]  [0.0, 0.0]                 -1              [0, 0]   \n",
       "1  [-50, -49]  [0.0, 0.0]                 -1              [0, 0]   \n",
       "2  [-50, -48]  [0.0, 0.0]                 -1              [0, 0]   \n",
       "3  [-50, -47]  [0.0, 0.0]                 -1              [0, 0]   \n",
       "4  [-50, -46]  [0.0, 0.0]                 -1              [0, 0]   \n",
       "5  [-50, -45]  [0.0, 0.0]                 -1              [0, 0]   \n",
       "6  [-50, -44]  [0.0, 0.0]                 -1              [0, 0]   \n",
       "7  [-50, -43]  [0.0, 0.0]                 -1              [0, 0]   \n",
       "8  [-50, -42]  [0.0, 0.0]                 -1              [0, 0]   \n",
       "9  [-50, -41]  [0.0, 0.0]                 -1              [0, 0]   \n",
       "\n",
       "  linear_relu_stack.3  \n",
       "0              [0, 0]  \n",
       "1              [0, 0]  \n",
       "2              [0, 0]  \n",
       "3              [0, 0]  \n",
       "4              [0, 0]  \n",
       "5              [0, 0]  \n",
       "6              [0, 0]  \n",
       "7              [0, 0]  \n",
       "8              [0, 0]  \n",
       "9              [0, 0]  "
      ]
     },
     "execution_count": 3,
     "metadata": {},
     "output_type": "execute_result"
    }
   ],
   "source": [
    "# create input pairs for model\n",
    "inputs = []\n",
    "for x1 in np.arange(-50, 51, 1):\n",
    "  for x2 in np.arange(-50, 51, 1):\n",
    "    inputs.append([x1, x2])\n",
    "\n",
    "df = create_training_df(inputs, 0)\n",
    "print(len(df))\n",
    "df.head(10)"
   ]
  },
  {
   "cell_type": "markdown",
   "id": "d96337b9",
   "metadata": {},
   "source": [
    "### Decision tree learning to find potential layer properties"
   ]
  },
  {
   "cell_type": "code",
   "execution_count": 10,
   "id": "874455d0",
   "metadata": {},
   "outputs": [
    {
     "data": {
      "text/plain": [
       "[{'node_id': 2,\n",
       "  'sat_postcond': True,\n",
       "  'support': 4343,\n",
       "  'activation_pattern': ['ON', '--']}]"
      ]
     },
     "execution_count": 10,
     "metadata": {},
     "output_type": "execute_result"
    }
   ],
   "source": [
    "layer_name = \"linear_relu_stack.3\"\n",
    "decision_tree = DecisionTree(df, X_col=layer_name, Y_col=\"satisfies_postcon\")\n",
    "leaves_with_activation_pattern = decision_tree.get_potential_layer_properties()\n",
    "leaves_with_activation_pattern"
   ]
  },
  {
   "cell_type": "code",
   "execution_count": 11,
   "id": "43962cc6",
   "metadata": {},
   "outputs": [
    {
     "data": {
      "image/svg+xml": [
       "<?xml version=\"1.0\" encoding=\"UTF-8\" standalone=\"no\"?>\n",
       "<!DOCTYPE svg PUBLIC \"-//W3C//DTD SVG 1.1//EN\"\n",
       " \"http://www.w3.org/Graphics/SVG/1.1/DTD/svg11.dtd\">\n",
       "<!-- Generated by graphviz version 2.50.0 (0)\n",
       " -->\n",
       "<!-- Title: Tree Pages: 1 -->\n",
       "<svg width=\"260pt\" height=\"195pt\"\n",
       " viewBox=\"0.00 0.00 260.00 195.00\" xmlns=\"http://www.w3.org/2000/svg\" xmlns:xlink=\"http://www.w3.org/1999/xlink\">\n",
       "<g id=\"graph0\" class=\"graph\" transform=\"scale(1 1) rotate(0) translate(4 191)\">\n",
       "<title>Tree</title>\n",
       "<polygon fill=\"white\" stroke=\"transparent\" points=\"-4,4 -4,-191 256,-191 256,4 -4,4\"/>\n",
       "<!-- 0 -->\n",
       "<g id=\"node1\" class=\"node\">\n",
       "<title>0</title>\n",
       "<path fill=\"#f8decc\" stroke=\"black\" d=\"M183.5,-187C183.5,-187 67.5,-187 67.5,-187 61.5,-187 55.5,-181 55.5,-175 55.5,-175 55.5,-116 55.5,-116 55.5,-110 61.5,-104 67.5,-104 67.5,-104 183.5,-104 183.5,-104 189.5,-104 195.5,-110 195.5,-116 195.5,-116 195.5,-175 195.5,-175 195.5,-181 189.5,-187 183.5,-187\"/>\n",
       "<text text-anchor=\"start\" x=\"101\" y=\"-171.8\" font-family=\"Helvetica,sans-Serif\" font-size=\"14.00\">n0 ≤ 0.5</text>\n",
       "<text text-anchor=\"start\" x=\"90\" y=\"-156.8\" font-family=\"Helvetica,sans-Serif\" font-size=\"14.00\">gini = 0.489</text>\n",
       "<text text-anchor=\"start\" x=\"73\" y=\"-141.8\" font-family=\"Helvetica,sans-Serif\" font-size=\"14.00\">samples = 10201</text>\n",
       "<text text-anchor=\"start\" x=\"63.5\" y=\"-126.8\" font-family=\"Helvetica,sans-Serif\" font-size=\"14.00\">value = [5858, 4343]</text>\n",
       "<text text-anchor=\"start\" x=\"87.5\" y=\"-111.8\" font-family=\"Helvetica,sans-Serif\" font-size=\"14.00\">class = false</text>\n",
       "</g>\n",
       "<!-- 1 -->\n",
       "<g id=\"node2\" class=\"node\">\n",
       "<title>1</title>\n",
       "<path fill=\"#e58139\" stroke=\"black\" d=\"M105,-68C105,-68 12,-68 12,-68 6,-68 0,-62 0,-56 0,-56 0,-12 0,-12 0,-6 6,0 12,0 12,0 105,0 105,0 111,0 117,-6 117,-12 117,-12 117,-56 117,-56 117,-62 111,-68 105,-68\"/>\n",
       "<text text-anchor=\"start\" x=\"30.5\" y=\"-52.8\" font-family=\"Helvetica,sans-Serif\" font-size=\"14.00\">gini = 0.0</text>\n",
       "<text text-anchor=\"start\" x=\"10\" y=\"-37.8\" font-family=\"Helvetica,sans-Serif\" font-size=\"14.00\">samples = 5858</text>\n",
       "<text text-anchor=\"start\" x=\"8\" y=\"-22.8\" font-family=\"Helvetica,sans-Serif\" font-size=\"14.00\">value = [5858, 0]</text>\n",
       "<text text-anchor=\"start\" x=\"20.5\" y=\"-7.8\" font-family=\"Helvetica,sans-Serif\" font-size=\"14.00\">class = false</text>\n",
       "</g>\n",
       "<!-- 0&#45;&gt;1 -->\n",
       "<g id=\"edge1\" class=\"edge\">\n",
       "<title>0&#45;&gt;1</title>\n",
       "<path fill=\"none\" stroke=\"black\" d=\"M100.55,-103.73C95.19,-94.97 89.52,-85.7 84.14,-76.91\"/>\n",
       "<polygon fill=\"black\" stroke=\"black\" points=\"87.08,-75 78.88,-68.3 81.11,-78.66 87.08,-75\"/>\n",
       "<text text-anchor=\"middle\" x=\"73.02\" y=\"-88.9\" font-family=\"Helvetica,sans-Serif\" font-size=\"14.00\">True</text>\n",
       "</g>\n",
       "<!-- 2 -->\n",
       "<g id=\"node3\" class=\"node\">\n",
       "<title>2</title>\n",
       "<path fill=\"#399de5\" stroke=\"black\" d=\"M240,-68C240,-68 147,-68 147,-68 141,-68 135,-62 135,-56 135,-56 135,-12 135,-12 135,-6 141,0 147,0 147,0 240,0 240,0 246,0 252,-6 252,-12 252,-12 252,-56 252,-56 252,-62 246,-68 240,-68\"/>\n",
       "<text text-anchor=\"start\" x=\"165.5\" y=\"-52.8\" font-family=\"Helvetica,sans-Serif\" font-size=\"14.00\">gini = 0.0</text>\n",
       "<text text-anchor=\"start\" x=\"145\" y=\"-37.8\" font-family=\"Helvetica,sans-Serif\" font-size=\"14.00\">samples = 4343</text>\n",
       "<text text-anchor=\"start\" x=\"143\" y=\"-22.8\" font-family=\"Helvetica,sans-Serif\" font-size=\"14.00\">value = [0, 4343]</text>\n",
       "<text text-anchor=\"start\" x=\"158.5\" y=\"-7.8\" font-family=\"Helvetica,sans-Serif\" font-size=\"14.00\">class = true</text>\n",
       "</g>\n",
       "<!-- 0&#45;&gt;2 -->\n",
       "<g id=\"edge2\" class=\"edge\">\n",
       "<title>0&#45;&gt;2</title>\n",
       "<path fill=\"none\" stroke=\"black\" d=\"M150.82,-103.73C156.26,-94.97 162.01,-85.7 167.48,-76.91\"/>\n",
       "<polygon fill=\"black\" stroke=\"black\" points=\"170.52,-78.64 172.82,-68.3 164.57,-74.95 170.52,-78.64\"/>\n",
       "<text text-anchor=\"middle\" x=\"178.51\" y=\"-88.94\" font-family=\"Helvetica,sans-Serif\" font-size=\"14.00\">False</text>\n",
       "</g>\n",
       "</g>\n",
       "</svg>\n"
      ],
      "text/plain": [
       "<graphviz.sources.Source at 0x2bed43c10>"
      ]
     },
     "execution_count": 11,
     "metadata": {},
     "output_type": "execute_result"
    }
   ],
   "source": [
    "decision_tree.visualize_tree()"
   ]
  },
  {
   "cell_type": "code",
   "execution_count": 12,
   "id": "2137f51b",
   "metadata": {},
   "outputs": [
    {
     "name": "stdout",
     "output_type": "stream",
     "text": [
      "{'linear_relu_stack.3': ['ON', '--']}\n"
     ]
    },
    {
     "data": {
      "text/plain": [
       "[{'decision_pattern': {'linear_relu_stack.3': ['ON', '--']}, 'status': 'sat'}]"
      ]
     },
     "execution_count": 12,
     "metadata": {},
     "output_type": "execute_result"
    }
   ],
   "source": [
    "dp = MarabouCoreDP()\n",
    "result = []\n",
    "for leaf_data in leaves_with_activation_pattern:\n",
    "  decision_pattern = { layer_name: leaf_data[\"activation_pattern\"] }\n",
    "  print(decision_pattern)\n",
    "  status, _, _, _ = dp.solve(decision_pattern, model, 0)\n",
    "  result.append({\"decision_pattern\": decision_pattern, \"status\": status})\n",
    "result"
   ]
  },
  {
   "cell_type": "code",
   "execution_count": null,
   "id": "719c7954",
   "metadata": {},
   "outputs": [],
   "source": []
  }
 ],
 "metadata": {
  "kernelspec": {
   "display_name": "Python 3 (ipykernel)",
   "language": "python",
   "name": "python3"
  },
  "language_info": {
   "codemirror_mode": {
    "name": "ipython",
    "version": 3
   },
   "file_extension": ".py",
   "mimetype": "text/x-python",
   "name": "python",
   "nbconvert_exporter": "python",
   "pygments_lexer": "ipython3",
   "version": "3.10.9"
  }
 },
 "nbformat": 4,
 "nbformat_minor": 5
}
