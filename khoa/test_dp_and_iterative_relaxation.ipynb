{
 "cells": [
  {
   "cell_type": "code",
   "execution_count": 1,
   "id": "30d07c35",
   "metadata": {},
   "outputs": [
    {
     "name": "stdout",
     "output_type": "stream",
     "text": [
      "WARNING:tensorflow:From /Users/khoanguyen-cp/anaconda3/lib/python3.10/site-packages/tensorflow/python/compat/v2_compat.py:107: disable_resource_variables (from tensorflow.python.ops.variable_scope) is deprecated and will be removed in a future version.\n",
      "Instructions for updating:\n",
      "non-resource variables are not supported in the long term\n"
     ]
    }
   ],
   "source": [
    "import torch\n",
    "import copy\n",
    "\n",
    "from torch import nn\n",
    "from algorithms.iterative_relaxation import IterativeRelaxation\n",
    "from algorithms.decision_procedure import MarabouCoreDP\n",
    "from models.test_models import ProphecyPaperNetwork, TestModel\n",
    "from models.utils import attach_relu_activation_hook, attach_layer_output_hook, get_layers_info"
   ]
  },
  {
   "cell_type": "markdown",
   "id": "7451fdb5",
   "metadata": {},
   "source": [
    "### Test DP"
   ]
  },
  {
   "cell_type": "code",
   "execution_count": 2,
   "id": "95b44826",
   "metadata": {},
   "outputs": [],
   "source": [
    "dp = MarabouCoreDP()\n",
    "prophecy_model = ProphecyPaperNetwork()"
   ]
  },
  {
   "cell_type": "code",
   "execution_count": 8,
   "id": "08738058",
   "metadata": {},
   "outputs": [
    {
     "data": {
      "text/plain": [
       "['unsat',\n",
       " {},\n",
       " <maraboupy.MarabouCore.Statistics at 0x2919facf0>,\n",
       " <maraboupy.MarabouCore.InputQuery at 0x2919d9830>]"
      ]
     },
     "execution_count": 8,
     "metadata": {},
     "output_type": "execute_result"
    }
   ],
   "source": [
    "activation = {\n",
    "  'linear_relu_stack.1': ['ON', 'OFF'], \n",
    "  'linear_relu_stack.3': ['ON', 'OFF'],\n",
    "}\n",
    "dp.solve(activation, prophecy_model, 0)"
   ]
  },
  {
   "cell_type": "code",
   "execution_count": 9,
   "id": "943609d8",
   "metadata": {},
   "outputs": [
    {
     "data": {
      "text/plain": [
       "['unsat',\n",
       " {},\n",
       " <maraboupy.MarabouCore.Statistics at 0x291a20130>,\n",
       " <maraboupy.MarabouCore.InputQuery at 0x2919f8e70>]"
      ]
     },
     "execution_count": 9,
     "metadata": {},
     "output_type": "execute_result"
    }
   ],
   "source": [
    "activation = {\n",
    "  'linear_relu_stack.1': ['ON', 'OFF'], \n",
    "  'linear_relu_stack.3': ['--', '--'],\n",
    "}\n",
    "dp.solve(activation, prophecy_model, 0)"
   ]
  },
  {
   "cell_type": "code",
   "execution_count": 5,
   "id": "a91f9e7e",
   "metadata": {},
   "outputs": [
    {
     "data": {
      "text/plain": [
       "['sat',\n",
       " {0: -49.999999,\n",
       "  1: -50.000001,\n",
       "  2: 1.9999999949504854e-06,\n",
       "  3: -100.0,\n",
       "  4: 1.9999999949504854e-06,\n",
       "  5: 0.0,\n",
       "  6: 9.999999974752427e-07,\n",
       "  7: -9.999999974752427e-07,\n",
       "  8: 9.999999974752427e-07,\n",
       "  9: 9.999999974752427e-07,\n",
       "  10: -0.0,\n",
       "  11: -0.0},\n",
       " <maraboupy.MarabouCore.Statistics at 0x2919fa3b0>,\n",
       " <maraboupy.MarabouCore.InputQuery at 0x2919dbd30>]"
      ]
     },
     "execution_count": 5,
     "metadata": {},
     "output_type": "execute_result"
    }
   ],
   "source": [
    "activation = {\n",
    "  'linear_relu_stack.1': ['--', '--'], \n",
    "  'linear_relu_stack.3': ['ON', '--'],\n",
    "}\n",
    "dp.solve(activation, prophecy_model, 0)"
   ]
  },
  {
   "cell_type": "markdown",
   "id": "1d48f636",
   "metadata": {},
   "source": [
    "### Test Iterative Relaxation"
   ]
  },
  {
   "cell_type": "code",
   "execution_count": 10,
   "id": "5598f6a0",
   "metadata": {},
   "outputs": [
    {
     "name": "stdout",
     "output_type": "stream",
     "text": [
      "input property: [{'linear_relu_stack.1': ['ON', 'OFF'], 'linear_relu_stack.3': ['--', '--']}]\n"
     ]
    }
   ],
   "source": [
    "ir_model = ProphecyPaperNetwork()\n",
    "iterative_relaxation = IterativeRelaxation()\n",
    "\n",
    "input_property = iterative_relaxation.call(ir_model, [[1, -1]], 0)\n",
    "print(f\"input property: {input_property}\")"
   ]
  },
  {
   "cell_type": "code",
   "execution_count": 11,
   "id": "bce4f769",
   "metadata": {},
   "outputs": [
    {
     "name": "stdout",
     "output_type": "stream",
     "text": [
      "input property: [{'linear_relu_stack.1': ['ON', 'OFF'], 'linear_relu_stack.3': ['ON', 'OFF']}, 1]\n"
     ]
    }
   ],
   "source": [
    "ir_model = ProphecyPaperNetwork()\n",
    "iterative_relaxation = IterativeRelaxation()\n",
    "\n",
    "input_property = iterative_relaxation.call(ir_model, [[1, -1]], 1)\n",
    "print(f\"input property: {input_property}\")"
   ]
  },
  {
   "cell_type": "markdown",
   "id": "10e6d64c",
   "metadata": {},
   "source": [
    "### Misc"
   ]
  },
  {
   "cell_type": "code",
   "execution_count": 13,
   "id": "6fea305a",
   "metadata": {},
   "outputs": [
    {
     "name": "stdout",
     "output_type": "stream",
     "text": [
      "Predicted class: tensor([0])\n",
      "Activation: {'linear_relu_stack.1': ['ON', 'OFF'], 'linear_relu_stack.3': ['ON', 'OFF']}\n",
      "Layer outputs: {'linear_relu_stack.0': tensor([[2., 0.]]), 'linear_relu_stack.1': tensor([[2., 0.]]), 'linear_relu_stack.2': tensor([[ 1., -1.]]), 'linear_relu_stack.3': tensor([[1., 0.]]), 'final_output': tensor([[ 1., -1.]])}\n"
     ]
    }
   ],
   "source": [
    "model = ProphecyPaperNetwork()\n",
    "_act_handles, activation_signature = attach_relu_activation_hook(model)\n",
    "_out_handles, layer_outputs = attach_layer_output_hook(model)\n",
    "\n",
    "# input_data = [[-1,3]]\n",
    "input_data = [[1, -1]]\n",
    "# input_data = [[-10, -0]]\n",
    "\n",
    "X = torch.tensor(input_data, dtype=torch.float)\n",
    "logits = model(X)\n",
    "prediction_prob = nn.Softmax(dim=1)(logits)\n",
    "y_pred = prediction_prob.argmax(1)\n",
    "\n",
    "print(f\"Predicted class: {y_pred}\")\n",
    "print(f\"Activation: {activation_signature}\")\n",
    "print(f\"Layer outputs: {layer_outputs}\")"
   ]
  },
  {
   "cell_type": "code",
   "execution_count": null,
   "id": "9c315b0c",
   "metadata": {},
   "outputs": [],
   "source": []
  }
 ],
 "metadata": {
  "kernelspec": {
   "display_name": "Python 3 (ipykernel)",
   "language": "python",
   "name": "python3"
  },
  "language_info": {
   "codemirror_mode": {
    "name": "ipython",
    "version": 3
   },
   "file_extension": ".py",
   "mimetype": "text/x-python",
   "name": "python",
   "nbconvert_exporter": "python",
   "pygments_lexer": "ipython3",
   "version": "3.10.9"
  }
 },
 "nbformat": 4,
 "nbformat_minor": 5
}
