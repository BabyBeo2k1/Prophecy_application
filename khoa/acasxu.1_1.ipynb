{
 "cells": [
  {
   "cell_type": "code",
   "execution_count": 1,
   "id": "c4727311",
   "metadata": {},
   "outputs": [
    {
     "name": "stdout",
     "output_type": "stream",
     "text": [
      "WARNING:tensorflow:From /Users/khoanguyen-cp/anaconda3/lib/python3.10/site-packages/tensorflow/python/compat/v2_compat.py:107: disable_resource_variables (from tensorflow.python.ops.variable_scope) is deprecated and will be removed in a future version.\n",
      "Instructions for updating:\n",
      "non-resource variables are not supported in the long term\n"
     ]
    }
   ],
   "source": [
    "import onnx\n",
    "import torch\n",
    "import numpy as np\n",
    "import pandas as pd  \n",
    "import copy\n",
    "\n",
    "from onnx2pytorch import ConvertModel\n",
    "from torch import nn\n",
    "\n",
    "from algorithms.iterative_relaxation import IterativeRelaxation\n",
    "from algorithms.decision_procedure import MarabouCoreDP\n",
    "from algorithms.decision_tree import DecisionTree\n",
    "\n",
    "from models.test_models import ProphecyPaperNetwork, TestModel\n",
    "from models.acasxu_1_1 import Acasxu1_1\n",
    "from models.utils import attach_relu_activation_hook, attach_layer_output_hook, get_layers_info, turn_bool_activation_to_int\n",
    "\n",
    "\n",
    "torch.set_printoptions(precision=8) "
   ]
  },
  {
   "cell_type": "code",
   "execution_count": 2,
   "id": "ecca288d",
   "metadata": {},
   "outputs": [],
   "source": [
    "model = Acasxu1_1()\n",
    "model.load_state_dict(torch.load('./models/acasxu_1_1.pt'))\n",
    "_act_handles, activation_signature = attach_relu_activation_hook(model)"
   ]
  },
  {
   "cell_type": "code",
   "execution_count": 3,
   "id": "0064a254",
   "metadata": {},
   "outputs": [
    {
     "data": {
      "text/plain": [
       "Acasxu1_1(\n",
       "  (fc0): Linear(in_features=5, out_features=50, bias=True)\n",
       "  (relu0): ReLU()\n",
       "  (fc1): Linear(in_features=50, out_features=50, bias=True)\n",
       "  (relu1): ReLU()\n",
       "  (fc2): Linear(in_features=50, out_features=50, bias=True)\n",
       "  (relu2): ReLU()\n",
       "  (fc3): Linear(in_features=50, out_features=50, bias=True)\n",
       "  (relu3): ReLU()\n",
       "  (fc4): Linear(in_features=50, out_features=50, bias=True)\n",
       "  (relu4): ReLU()\n",
       "  (fc5): Linear(in_features=50, out_features=50, bias=True)\n",
       "  (relu5): ReLU()\n",
       "  (output_layer): Linear(in_features=50, out_features=5, bias=True)\n",
       ")"
      ]
     },
     "execution_count": 3,
     "metadata": {},
     "output_type": "execute_result"
    }
   ],
   "source": [
    "model"
   ]
  },
  {
   "cell_type": "code",
   "execution_count": 4,
   "id": "9037f7b9",
   "metadata": {},
   "outputs": [
    {
     "name": "stdout",
     "output_type": "stream",
     "text": [
      "5 inputs and 5 outputs in vnnlib\n",
      "[[0.6, 0.679857769], [-0.5, 0.5], [-0.5, 0.5], [0.45, 0.5], [-0.5, -0.45]]\n",
      "[(array([[-1.,  0.,  0.,  0.,  0.]]), array([-3.99112565]))]\n"
     ]
    }
   ],
   "source": [
    "from network_properties.read_vnnlib import read_vnnlib\n",
    "from pathlib import Path\n",
    "vnnlib_path = Path(\"./network_properties/prop_1.vnnlib\") # acasxu\n",
    "# vnnlib_path = Path(\"./network_properties/prop_0_0.03.vnnlib\") # MNIST\n",
    "\n",
    "input_ranges, specifications = read_vnnlib(vnnlib_path)[0]\n",
    "print(input_ranges)\n",
    "print(specifications)"
   ]
  },
  {
   "cell_type": "markdown",
   "id": "57bf381f",
   "metadata": {},
   "source": [
    "## 0. Prepare ACASXU dataset"
   ]
  },
  {
   "cell_type": "code",
   "execution_count": 5,
   "id": "747919a2",
   "metadata": {},
   "outputs": [],
   "source": [
    "# !wget https://raw.githubusercontent.com/safednn-nasa/prophecy_DNN/master/clusterinACAS_0_short.csv -O ./datasets/clusterinACAS_0_shrt.csv"
   ]
  },
  {
   "cell_type": "code",
   "execution_count": 6,
   "id": "658717cb",
   "metadata": {},
   "outputs": [],
   "source": [
    "acas_train = np.empty([384221,5],dtype=float)\n",
    "acas_train_labels = np.zeros(384221,dtype=int)\n",
    "\n",
    "def read_inputs_from_file(inputFile):\n",
    "  global acas_train, acas_train_labels, num\n",
    "  with open(inputFile) as f:\n",
    "    lines = f.readlines()\n",
    "    print(len(lines), \"examples\")\n",
    "    acas_train = np.empty([len(lines),5],dtype=float)\n",
    "    acas_train_labels = np.zeros(len(lines),dtype=int)\n",
    "\n",
    "    for l in range(len(lines)):\n",
    "      # This is to remove the useless 1 at the start of each string. Not sure why that's there.\n",
    "      k = [float(stringIn) for stringIn in lines[l].split(',')] \n",
    "      \n",
    "      # acas_train[l+num] = np.zeros(5,dtype=float) \n",
    "      # we're asuming that everything is 2D for now. The 1 is just to keep numpy happy.\n",
    "      if len(k) > 5:\n",
    "        lab = int(k[5])\n",
    "        #if ((lab == 0) or (lab == 2)):\n",
    "        #  lab = 0\n",
    "        #else:\n",
    "        #  lab = 1\n",
    "        acas_train_labels[l+num] = lab\n",
    "\n",
    "      count = 0\n",
    "      for i in range(0,5):\n",
    "        #print(count)\n",
    "        acas_train[l+num][i] = k[i]\n",
    "        #print(k[i])"
   ]
  },
  {
   "cell_type": "code",
   "execution_count": 7,
   "id": "25958f98",
   "metadata": {},
   "outputs": [
    {
     "name": "stdout",
     "output_type": "stream",
     "text": [
      "384221 examples\n",
      "(384221, 5)\n",
      "(384221,)\n"
     ]
    },
    {
     "data": {
      "text/plain": [
       "array([[-0.320142, -0.5     , -0.5     , -0.5     , -0.5     ],\n",
       "       [-0.295234, -0.5     , -0.5     , -0.5     , -0.5     ],\n",
       "       [-0.240207, -0.5     , -0.5     , -0.5     , -0.5     ],\n",
       "       [-0.208943, -0.5     , -0.5     , -0.5     , -0.5     ],\n",
       "       [-0.183636, -0.5     , -0.5     , -0.5     , -0.5     ]])"
      ]
     },
     "execution_count": 7,
     "metadata": {},
     "output_type": "execute_result"
    }
   ],
   "source": [
    "num = 0\n",
    "read_inputs_from_file('./datasets/clusterinACAS_0_shrt.csv')\n",
    "print(acas_train.shape)\n",
    "print(acas_train_labels.shape)\n",
    "acas_train[:5]"
   ]
  },
  {
   "cell_type": "code",
   "execution_count": 8,
   "id": "1c245d5c",
   "metadata": {},
   "outputs": [
    {
     "data": {
      "text/html": [
       "<div>\n",
       "<style scoped>\n",
       "    .dataframe tbody tr th:only-of-type {\n",
       "        vertical-align: middle;\n",
       "    }\n",
       "\n",
       "    .dataframe tbody tr th {\n",
       "        vertical-align: top;\n",
       "    }\n",
       "\n",
       "    .dataframe thead th {\n",
       "        text-align: right;\n",
       "    }\n",
       "</style>\n",
       "<table border=\"1\" class=\"dataframe\">\n",
       "  <thead>\n",
       "    <tr style=\"text-align: right;\">\n",
       "      <th></th>\n",
       "      <th>input</th>\n",
       "      <th>true_label</th>\n",
       "      <th>predicted_label</th>\n",
       "      <th>relu0</th>\n",
       "      <th>relu1</th>\n",
       "      <th>relu2</th>\n",
       "      <th>relu3</th>\n",
       "      <th>relu4</th>\n",
       "      <th>relu5</th>\n",
       "    </tr>\n",
       "  </thead>\n",
       "  <tbody>\n",
       "    <tr>\n",
       "      <th>0</th>\n",
       "      <td>[-0.320142, -0.5, -0.5, -0.5, -0.5]</td>\n",
       "      <td>3</td>\n",
       "      <td>3</td>\n",
       "      <td>[1, 1, 0, 1, 0, 0, 0, 1, 1, 1, 1, 0, 0, 1, 1, ...</td>\n",
       "      <td>[0, 0, 0, 0, 0, 0, 1, 0, 1, 0, 0, 1, 1, 0, 1, ...</td>\n",
       "      <td>[0, 0, 1, 1, 0, 0, 0, 0, 1, 0, 1, 1, 0, 0, 0, ...</td>\n",
       "      <td>[0, 0, 1, 1, 0, 0, 1, 0, 0, 0, 1, 1, 0, 0, 0, ...</td>\n",
       "      <td>[0, 0, 0, 0, 0, 1, 1, 0, 1, 1, 1, 0, 0, 0, 0, ...</td>\n",
       "      <td>[0, 1, 0, 0, 0, 1, 0, 0, 0, 1, 0, 0, 0, 0, 0, ...</td>\n",
       "    </tr>\n",
       "    <tr>\n",
       "      <th>1</th>\n",
       "      <td>[-0.295234, -0.5, -0.5, -0.5, -0.5]</td>\n",
       "      <td>1</td>\n",
       "      <td>1</td>\n",
       "      <td>[1, 1, 0, 1, 0, 0, 0, 1, 1, 1, 1, 0, 0, 1, 1, ...</td>\n",
       "      <td>[0, 0, 0, 0, 0, 0, 1, 0, 1, 0, 0, 1, 1, 0, 1, ...</td>\n",
       "      <td>[1, 0, 1, 1, 1, 0, 0, 0, 1, 0, 0, 1, 0, 0, 0, ...</td>\n",
       "      <td>[0, 0, 1, 1, 0, 0, 1, 0, 0, 0, 0, 1, 0, 0, 0, ...</td>\n",
       "      <td>[1, 0, 0, 0, 0, 1, 0, 0, 1, 0, 1, 0, 0, 0, 0, ...</td>\n",
       "      <td>[0, 1, 0, 1, 0, 0, 0, 0, 0, 0, 0, 0, 0, 0, 0, ...</td>\n",
       "    </tr>\n",
       "    <tr>\n",
       "      <th>2</th>\n",
       "      <td>[-0.240207, -0.5, -0.5, -0.5, -0.5]</td>\n",
       "      <td>0</td>\n",
       "      <td>0</td>\n",
       "      <td>[1, 1, 0, 1, 0, 0, 0, 0, 1, 1, 1, 0, 0, 1, 1, ...</td>\n",
       "      <td>[0, 0, 0, 0, 0, 0, 1, 0, 1, 0, 0, 1, 0, 0, 1, ...</td>\n",
       "      <td>[1, 0, 1, 1, 1, 0, 0, 0, 0, 0, 0, 1, 0, 0, 0, ...</td>\n",
       "      <td>[0, 0, 0, 1, 0, 0, 1, 0, 0, 0, 0, 1, 0, 0, 0, ...</td>\n",
       "      <td>[1, 0, 0, 0, 0, 1, 0, 0, 1, 0, 1, 0, 1, 0, 0, ...</td>\n",
       "      <td>[0, 0, 0, 1, 0, 0, 0, 0, 0, 0, 0, 0, 0, 0, 0, ...</td>\n",
       "    </tr>\n",
       "    <tr>\n",
       "      <th>3</th>\n",
       "      <td>[-0.208943, -0.5, -0.5, -0.5, -0.5]</td>\n",
       "      <td>0</td>\n",
       "      <td>0</td>\n",
       "      <td>[1, 1, 0, 0, 0, 0, 0, 0, 1, 1, 1, 0, 0, 1, 1, ...</td>\n",
       "      <td>[0, 0, 0, 0, 0, 0, 1, 0, 1, 0, 0, 1, 0, 0, 1, ...</td>\n",
       "      <td>[1, 0, 1, 1, 1, 0, 0, 0, 0, 0, 0, 1, 0, 0, 0, ...</td>\n",
       "      <td>[0, 0, 0, 1, 0, 0, 1, 0, 0, 0, 0, 1, 0, 0, 0, ...</td>\n",
       "      <td>[1, 0, 0, 0, 0, 1, 0, 0, 0, 0, 1, 0, 0, 0, 0, ...</td>\n",
       "      <td>[0, 0, 0, 1, 0, 0, 0, 0, 0, 0, 0, 0, 0, 0, 0, ...</td>\n",
       "    </tr>\n",
       "    <tr>\n",
       "      <th>4</th>\n",
       "      <td>[-0.183636, -0.5, -0.5, -0.5, -0.5]</td>\n",
       "      <td>0</td>\n",
       "      <td>0</td>\n",
       "      <td>[1, 1, 0, 0, 0, 0, 0, 0, 0, 1, 1, 0, 0, 1, 1, ...</td>\n",
       "      <td>[0, 0, 0, 0, 0, 0, 1, 0, 1, 0, 0, 1, 0, 0, 1, ...</td>\n",
       "      <td>[1, 0, 1, 1, 1, 0, 0, 0, 0, 0, 0, 1, 0, 0, 0, ...</td>\n",
       "      <td>[0, 0, 0, 1, 0, 0, 1, 0, 0, 0, 0, 1, 0, 0, 0, ...</td>\n",
       "      <td>[1, 0, 0, 0, 0, 1, 0, 0, 0, 0, 1, 0, 0, 0, 0, ...</td>\n",
       "      <td>[0, 0, 0, 0, 0, 0, 0, 0, 0, 0, 0, 0, 0, 0, 0, ...</td>\n",
       "    </tr>\n",
       "    <tr>\n",
       "      <th>5</th>\n",
       "      <td>[-0.10156, -0.5, -0.5, -0.5, -0.5]</td>\n",
       "      <td>0</td>\n",
       "      <td>0</td>\n",
       "      <td>[1, 1, 0, 0, 0, 0, 0, 0, 0, 0, 1, 1, 0, 1, 1, ...</td>\n",
       "      <td>[0, 0, 0, 0, 0, 0, 1, 0, 1, 0, 0, 1, 0, 0, 1, ...</td>\n",
       "      <td>[1, 0, 1, 1, 1, 0, 0, 0, 0, 0, 0, 1, 0, 0, 0, ...</td>\n",
       "      <td>[0, 0, 0, 1, 0, 0, 1, 0, 0, 0, 0, 1, 0, 0, 0, ...</td>\n",
       "      <td>[1, 0, 0, 0, 0, 1, 0, 0, 0, 0, 1, 0, 0, 0, 0, ...</td>\n",
       "      <td>[0, 0, 0, 0, 0, 0, 0, 0, 0, 0, 0, 0, 0, 0, 0, ...</td>\n",
       "    </tr>\n",
       "    <tr>\n",
       "      <th>6</th>\n",
       "      <td>[-0.000732, -0.5, -0.5, -0.5, -0.5]</td>\n",
       "      <td>0</td>\n",
       "      <td>0</td>\n",
       "      <td>[1, 0, 0, 0, 0, 0, 0, 0, 0, 0, 1, 1, 0, 1, 1, ...</td>\n",
       "      <td>[0, 0, 0, 0, 0, 0, 0, 0, 0, 0, 0, 1, 0, 0, 0, ...</td>\n",
       "      <td>[1, 0, 1, 1, 1, 0, 0, 0, 0, 0, 0, 1, 0, 0, 0, ...</td>\n",
       "      <td>[0, 0, 0, 1, 0, 0, 1, 0, 0, 0, 0, 1, 0, 0, 0, ...</td>\n",
       "      <td>[1, 0, 0, 0, 0, 1, 0, 0, 0, 0, 1, 0, 0, 0, 0, ...</td>\n",
       "      <td>[0, 0, 0, 0, 0, 0, 0, 0, 0, 0, 0, 0, 0, 0, 0, ...</td>\n",
       "    </tr>\n",
       "    <tr>\n",
       "      <th>7</th>\n",
       "      <td>[0.100096, -0.5, -0.5, -0.5, -0.5]</td>\n",
       "      <td>0</td>\n",
       "      <td>0</td>\n",
       "      <td>[1, 0, 0, 0, 0, 0, 1, 0, 0, 0, 1, 1, 0, 1, 1, ...</td>\n",
       "      <td>[0, 0, 0, 0, 0, 0, 0, 0, 0, 0, 0, 1, 0, 0, 0, ...</td>\n",
       "      <td>[1, 0, 1, 1, 1, 0, 0, 0, 0, 0, 0, 0, 0, 0, 0, ...</td>\n",
       "      <td>[0, 0, 0, 1, 0, 0, 1, 0, 0, 0, 0, 1, 0, 0, 0, ...</td>\n",
       "      <td>[1, 0, 0, 0, 0, 1, 0, 0, 0, 0, 1, 0, 0, 0, 0, ...</td>\n",
       "      <td>[0, 0, 0, 0, 0, 0, 0, 0, 0, 0, 0, 0, 0, 0, 0, ...</td>\n",
       "    </tr>\n",
       "    <tr>\n",
       "      <th>8</th>\n",
       "      <td>[0.200941, -0.5, -0.5, -0.5, -0.5]</td>\n",
       "      <td>0</td>\n",
       "      <td>0</td>\n",
       "      <td>[1, 0, 0, 0, 0, 0, 1, 0, 0, 0, 1, 1, 0, 1, 1, ...</td>\n",
       "      <td>[0, 0, 0, 0, 0, 0, 0, 0, 0, 1, 0, 0, 0, 0, 0, ...</td>\n",
       "      <td>[1, 0, 1, 1, 1, 0, 0, 0, 0, 0, 0, 0, 0, 0, 0, ...</td>\n",
       "      <td>[0, 0, 0, 1, 0, 0, 1, 0, 0, 0, 0, 1, 0, 0, 0, ...</td>\n",
       "      <td>[1, 0, 0, 0, 0, 0, 0, 0, 0, 0, 1, 0, 0, 0, 0, ...</td>\n",
       "      <td>[0, 0, 0, 1, 0, 0, 0, 0, 0, 0, 0, 0, 0, 0, 0, ...</td>\n",
       "    </tr>\n",
       "    <tr>\n",
       "      <th>9</th>\n",
       "      <td>[0.301769, -0.5, -0.5, -0.5, -0.5]</td>\n",
       "      <td>0</td>\n",
       "      <td>0</td>\n",
       "      <td>[1, 0, 0, 0, 0, 0, 1, 0, 0, 0, 1, 1, 0, 1, 1, ...</td>\n",
       "      <td>[0, 0, 0, 0, 0, 0, 0, 0, 0, 1, 0, 0, 0, 0, 0, ...</td>\n",
       "      <td>[1, 0, 1, 1, 1, 0, 0, 0, 0, 0, 0, 0, 0, 0, 0, ...</td>\n",
       "      <td>[0, 0, 0, 1, 0, 0, 1, 0, 0, 0, 0, 1, 0, 0, 0, ...</td>\n",
       "      <td>[1, 0, 0, 0, 0, 0, 0, 0, 0, 0, 1, 0, 0, 0, 0, ...</td>\n",
       "      <td>[0, 0, 0, 1, 0, 0, 0, 0, 0, 0, 0, 0, 0, 0, 0, ...</td>\n",
       "    </tr>\n",
       "  </tbody>\n",
       "</table>\n",
       "</div>"
      ],
      "text/plain": [
       "                                 input  true_label  predicted_label  \\\n",
       "0  [-0.320142, -0.5, -0.5, -0.5, -0.5]           3                3   \n",
       "1  [-0.295234, -0.5, -0.5, -0.5, -0.5]           1                1   \n",
       "2  [-0.240207, -0.5, -0.5, -0.5, -0.5]           0                0   \n",
       "3  [-0.208943, -0.5, -0.5, -0.5, -0.5]           0                0   \n",
       "4  [-0.183636, -0.5, -0.5, -0.5, -0.5]           0                0   \n",
       "5   [-0.10156, -0.5, -0.5, -0.5, -0.5]           0                0   \n",
       "6  [-0.000732, -0.5, -0.5, -0.5, -0.5]           0                0   \n",
       "7   [0.100096, -0.5, -0.5, -0.5, -0.5]           0                0   \n",
       "8   [0.200941, -0.5, -0.5, -0.5, -0.5]           0                0   \n",
       "9   [0.301769, -0.5, -0.5, -0.5, -0.5]           0                0   \n",
       "\n",
       "                                               relu0  \\\n",
       "0  [1, 1, 0, 1, 0, 0, 0, 1, 1, 1, 1, 0, 0, 1, 1, ...   \n",
       "1  [1, 1, 0, 1, 0, 0, 0, 1, 1, 1, 1, 0, 0, 1, 1, ...   \n",
       "2  [1, 1, 0, 1, 0, 0, 0, 0, 1, 1, 1, 0, 0, 1, 1, ...   \n",
       "3  [1, 1, 0, 0, 0, 0, 0, 0, 1, 1, 1, 0, 0, 1, 1, ...   \n",
       "4  [1, 1, 0, 0, 0, 0, 0, 0, 0, 1, 1, 0, 0, 1, 1, ...   \n",
       "5  [1, 1, 0, 0, 0, 0, 0, 0, 0, 0, 1, 1, 0, 1, 1, ...   \n",
       "6  [1, 0, 0, 0, 0, 0, 0, 0, 0, 0, 1, 1, 0, 1, 1, ...   \n",
       "7  [1, 0, 0, 0, 0, 0, 1, 0, 0, 0, 1, 1, 0, 1, 1, ...   \n",
       "8  [1, 0, 0, 0, 0, 0, 1, 0, 0, 0, 1, 1, 0, 1, 1, ...   \n",
       "9  [1, 0, 0, 0, 0, 0, 1, 0, 0, 0, 1, 1, 0, 1, 1, ...   \n",
       "\n",
       "                                               relu1  \\\n",
       "0  [0, 0, 0, 0, 0, 0, 1, 0, 1, 0, 0, 1, 1, 0, 1, ...   \n",
       "1  [0, 0, 0, 0, 0, 0, 1, 0, 1, 0, 0, 1, 1, 0, 1, ...   \n",
       "2  [0, 0, 0, 0, 0, 0, 1, 0, 1, 0, 0, 1, 0, 0, 1, ...   \n",
       "3  [0, 0, 0, 0, 0, 0, 1, 0, 1, 0, 0, 1, 0, 0, 1, ...   \n",
       "4  [0, 0, 0, 0, 0, 0, 1, 0, 1, 0, 0, 1, 0, 0, 1, ...   \n",
       "5  [0, 0, 0, 0, 0, 0, 1, 0, 1, 0, 0, 1, 0, 0, 1, ...   \n",
       "6  [0, 0, 0, 0, 0, 0, 0, 0, 0, 0, 0, 1, 0, 0, 0, ...   \n",
       "7  [0, 0, 0, 0, 0, 0, 0, 0, 0, 0, 0, 1, 0, 0, 0, ...   \n",
       "8  [0, 0, 0, 0, 0, 0, 0, 0, 0, 1, 0, 0, 0, 0, 0, ...   \n",
       "9  [0, 0, 0, 0, 0, 0, 0, 0, 0, 1, 0, 0, 0, 0, 0, ...   \n",
       "\n",
       "                                               relu2  \\\n",
       "0  [0, 0, 1, 1, 0, 0, 0, 0, 1, 0, 1, 1, 0, 0, 0, ...   \n",
       "1  [1, 0, 1, 1, 1, 0, 0, 0, 1, 0, 0, 1, 0, 0, 0, ...   \n",
       "2  [1, 0, 1, 1, 1, 0, 0, 0, 0, 0, 0, 1, 0, 0, 0, ...   \n",
       "3  [1, 0, 1, 1, 1, 0, 0, 0, 0, 0, 0, 1, 0, 0, 0, ...   \n",
       "4  [1, 0, 1, 1, 1, 0, 0, 0, 0, 0, 0, 1, 0, 0, 0, ...   \n",
       "5  [1, 0, 1, 1, 1, 0, 0, 0, 0, 0, 0, 1, 0, 0, 0, ...   \n",
       "6  [1, 0, 1, 1, 1, 0, 0, 0, 0, 0, 0, 1, 0, 0, 0, ...   \n",
       "7  [1, 0, 1, 1, 1, 0, 0, 0, 0, 0, 0, 0, 0, 0, 0, ...   \n",
       "8  [1, 0, 1, 1, 1, 0, 0, 0, 0, 0, 0, 0, 0, 0, 0, ...   \n",
       "9  [1, 0, 1, 1, 1, 0, 0, 0, 0, 0, 0, 0, 0, 0, 0, ...   \n",
       "\n",
       "                                               relu3  \\\n",
       "0  [0, 0, 1, 1, 0, 0, 1, 0, 0, 0, 1, 1, 0, 0, 0, ...   \n",
       "1  [0, 0, 1, 1, 0, 0, 1, 0, 0, 0, 0, 1, 0, 0, 0, ...   \n",
       "2  [0, 0, 0, 1, 0, 0, 1, 0, 0, 0, 0, 1, 0, 0, 0, ...   \n",
       "3  [0, 0, 0, 1, 0, 0, 1, 0, 0, 0, 0, 1, 0, 0, 0, ...   \n",
       "4  [0, 0, 0, 1, 0, 0, 1, 0, 0, 0, 0, 1, 0, 0, 0, ...   \n",
       "5  [0, 0, 0, 1, 0, 0, 1, 0, 0, 0, 0, 1, 0, 0, 0, ...   \n",
       "6  [0, 0, 0, 1, 0, 0, 1, 0, 0, 0, 0, 1, 0, 0, 0, ...   \n",
       "7  [0, 0, 0, 1, 0, 0, 1, 0, 0, 0, 0, 1, 0, 0, 0, ...   \n",
       "8  [0, 0, 0, 1, 0, 0, 1, 0, 0, 0, 0, 1, 0, 0, 0, ...   \n",
       "9  [0, 0, 0, 1, 0, 0, 1, 0, 0, 0, 0, 1, 0, 0, 0, ...   \n",
       "\n",
       "                                               relu4  \\\n",
       "0  [0, 0, 0, 0, 0, 1, 1, 0, 1, 1, 1, 0, 0, 0, 0, ...   \n",
       "1  [1, 0, 0, 0, 0, 1, 0, 0, 1, 0, 1, 0, 0, 0, 0, ...   \n",
       "2  [1, 0, 0, 0, 0, 1, 0, 0, 1, 0, 1, 0, 1, 0, 0, ...   \n",
       "3  [1, 0, 0, 0, 0, 1, 0, 0, 0, 0, 1, 0, 0, 0, 0, ...   \n",
       "4  [1, 0, 0, 0, 0, 1, 0, 0, 0, 0, 1, 0, 0, 0, 0, ...   \n",
       "5  [1, 0, 0, 0, 0, 1, 0, 0, 0, 0, 1, 0, 0, 0, 0, ...   \n",
       "6  [1, 0, 0, 0, 0, 1, 0, 0, 0, 0, 1, 0, 0, 0, 0, ...   \n",
       "7  [1, 0, 0, 0, 0, 1, 0, 0, 0, 0, 1, 0, 0, 0, 0, ...   \n",
       "8  [1, 0, 0, 0, 0, 0, 0, 0, 0, 0, 1, 0, 0, 0, 0, ...   \n",
       "9  [1, 0, 0, 0, 0, 0, 0, 0, 0, 0, 1, 0, 0, 0, 0, ...   \n",
       "\n",
       "                                               relu5  \n",
       "0  [0, 1, 0, 0, 0, 1, 0, 0, 0, 1, 0, 0, 0, 0, 0, ...  \n",
       "1  [0, 1, 0, 1, 0, 0, 0, 0, 0, 0, 0, 0, 0, 0, 0, ...  \n",
       "2  [0, 0, 0, 1, 0, 0, 0, 0, 0, 0, 0, 0, 0, 0, 0, ...  \n",
       "3  [0, 0, 0, 1, 0, 0, 0, 0, 0, 0, 0, 0, 0, 0, 0, ...  \n",
       "4  [0, 0, 0, 0, 0, 0, 0, 0, 0, 0, 0, 0, 0, 0, 0, ...  \n",
       "5  [0, 0, 0, 0, 0, 0, 0, 0, 0, 0, 0, 0, 0, 0, 0, ...  \n",
       "6  [0, 0, 0, 0, 0, 0, 0, 0, 0, 0, 0, 0, 0, 0, 0, ...  \n",
       "7  [0, 0, 0, 0, 0, 0, 0, 0, 0, 0, 0, 0, 0, 0, 0, ...  \n",
       "8  [0, 0, 0, 1, 0, 0, 0, 0, 0, 0, 0, 0, 0, 0, 0, ...  \n",
       "9  [0, 0, 0, 1, 0, 0, 0, 0, 0, 0, 0, 0, 0, 0, 0, ...  "
      ]
     },
     "execution_count": 8,
     "metadata": {},
     "output_type": "execute_result"
    }
   ],
   "source": [
    "def create_df(inputs, predicted_labels, true_labels, activation_signature):\n",
    "  data = []\n",
    "  for index, input_data in enumerate(inputs):\n",
    "    data_point = { \n",
    "      \"input\": input_data, \n",
    "      \"true_label\": true_labels[index], \n",
    "      \"predicted_label\": predicted_labels[index].item(),\n",
    "    }\n",
    "    for name, layer_activation in activation_signature.items():\n",
    "      data_point[name] = layer_activation[index]\n",
    "    data.append(data_point)\n",
    "\n",
    "  return pd.DataFrame(data)\n",
    "\n",
    "outputs = model(torch.tensor(acas_train, dtype=torch.float32))\n",
    "predicted_labels = torch.argmin(outputs, dim=1)\n",
    "activation_signature = turn_bool_activation_to_int(activation_signature, to_list=True)\n",
    "df = create_df(acas_train, predicted_labels, acas_train_labels, activation_signature)\n",
    "df.head(10)"
   ]
  },
  {
   "cell_type": "code",
   "execution_count": 9,
   "id": "576d035f",
   "metadata": {},
   "outputs": [
    {
     "data": {
      "text/plain": [
       "0.7663037678835878"
      ]
     },
     "execution_count": 9,
     "metadata": {},
     "output_type": "execute_result"
    }
   ],
   "source": [
    "# test accuracy\n",
    "len(df[df[\"predicted_label\"] == df['true_label']]) / (len(df))"
   ]
  },
  {
   "cell_type": "markdown",
   "id": "ddc856c0",
   "metadata": {},
   "source": [
    "## 1. Layer properties"
   ]
  },
  {
   "cell_type": "markdown",
   "id": "e724bab6",
   "metadata": {},
   "source": [
    "### 1.1 Find candidates with Decision Tree"
   ]
  },
  {
   "cell_type": "code",
   "execution_count": 10,
   "id": "9012189a",
   "metadata": {},
   "outputs": [],
   "source": [
    "relu_layers = ['relu0', 'relu1', 'relu2', 'relu3', 'relu4']\n",
    "labels = [0,1,2,3,4]\n",
    "# for name, module in list(model.named_modules()):\n",
    "#   if isinstance(module, torch.nn.ReLU):\n",
    "#     relu_layers.append(name)\n",
    "# relu_layers"
   ]
  },
  {
   "cell_type": "code",
   "execution_count": 11,
   "id": "5376a6a2",
   "metadata": {},
   "outputs": [],
   "source": [
    "# for layer_name in relu_layers: \n",
    "#   for chosen_label in [0,1,2,3,4]:\n",
    "#     df['satisfies_postcon'] = np.where(df['predicted_label'] == chosen_label, 1, -1)\n",
    "#     decision_tree = DecisionTree(df, X_col=layer_name, Y_col=\"satisfies_postcon\")\n",
    "#     leaves_with_activation_pattern = decision_tree.get_potential_layer_properties()"
   ]
  },
  {
   "cell_type": "code",
   "execution_count": 12,
   "id": "ecbcbf3f",
   "metadata": {},
   "outputs": [
    {
     "name": "stdout",
     "output_type": "stream",
     "text": [
      "num_of_patterns: 810\n",
      "total_support: 237734\n",
      "top_5_supports: [109147, 58070, 9977, 8950, 7424]\n"
     ]
    }
   ],
   "source": [
    "df['satisfies_postcon'] = np.where(df['predicted_label'] == 0, 1, -1)\n",
    "decision_tree = DecisionTree(df, X_col='relu4', Y_col=\"satisfies_postcon\")\n",
    "leaves_with_activation_pattern = decision_tree.get_potential_layer_properties()\n",
    "\n",
    "num_of_patterns = len(leaves_with_activation_pattern)\n",
    "print(f\"num_of_patterns: {num_of_patterns}\")\n",
    "\n",
    "total_support = sum(candidate['support'] for candidate in leaves_with_activation_pattern)\n",
    "print(f\"total_support: {total_support}\")\n",
    "\n",
    "top_5_supports = [candidate['support'] for candidate in leaves_with_activation_pattern[:5]]\n",
    "print(f\"top_5_supports: {top_5_supports}\")"
   ]
  },
  {
   "cell_type": "code",
   "execution_count": null,
   "id": "4fb2965e",
   "metadata": {},
   "outputs": [],
   "source": []
  }
 ],
 "metadata": {
  "kernelspec": {
   "display_name": "Python 3 (ipykernel)",
   "language": "python",
   "name": "python3"
  },
  "language_info": {
   "codemirror_mode": {
    "name": "ipython",
    "version": 3
   },
   "file_extension": ".py",
   "mimetype": "text/x-python",
   "name": "python",
   "nbconvert_exporter": "python",
   "pygments_lexer": "ipython3",
   "version": "3.10.9"
  }
 },
 "nbformat": 4,
 "nbformat_minor": 5
}
