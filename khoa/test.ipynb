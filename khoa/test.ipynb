{
 "cells": [
  {
   "cell_type": "code",
   "execution_count": 1,
   "id": "e384c177",
   "metadata": {},
   "outputs": [],
   "source": [
    "import copy\n",
    "import torch\n",
    "from torch import nn"
   ]
  },
  {
   "cell_type": "code",
   "execution_count": 2,
   "id": "30d07c35",
   "metadata": {},
   "outputs": [
    {
     "name": "stdout",
     "output_type": "stream",
     "text": [
      "WARNING:tensorflow:From /Users/khoanguyen-cp/anaconda3/lib/python3.10/site-packages/tensorflow/python/compat/v2_compat.py:107: disable_resource_variables (from tensorflow.python.ops.variable_scope) is deprecated and will be removed in a future version.\n",
      "Instructions for updating:\n",
      "non-resource variables are not supported in the long term\n"
     ]
    }
   ],
   "source": [
    "from algorithms.iterative_relaxation import IterativeRelaxation\n",
    "from algorithms.decision_procedure import MarabouCoreDP\n",
    "from models.prophecy_paper_model import ProphecyPaperNetwork"
   ]
  },
  {
   "cell_type": "markdown",
   "id": "7451fdb5",
   "metadata": {},
   "source": [
    "### Test DP"
   ]
  },
  {
   "cell_type": "code",
   "execution_count": 3,
   "id": "95b44826",
   "metadata": {},
   "outputs": [],
   "source": [
    "dp_model = ProphecyPaperNetwork()\n",
    "dp = MarabouCoreDP()"
   ]
  },
  {
   "cell_type": "code",
   "execution_count": 7,
   "id": "08738058",
   "metadata": {},
   "outputs": [
    {
     "data": {
      "text/plain": [
       "['unsat',\n",
       " {},\n",
       " <maraboupy.MarabouCore.Statistics at 0x29fa02630>,\n",
       " <maraboupy.MarabouCore.InputQuery at 0x29f870030>]"
      ]
     },
     "execution_count": 7,
     "metadata": {},
     "output_type": "execute_result"
    }
   ],
   "source": [
    "activation = {1: ['ON', 'OFF'], 3: ['ON', 'OFF']}\n",
    "dp.solve(activation, dp_model, 0)"
   ]
  },
  {
   "cell_type": "code",
   "execution_count": 10,
   "id": "943609d8",
   "metadata": {},
   "outputs": [
    {
     "data": {
      "text/plain": [
       "['unsat',\n",
       " {},\n",
       " <maraboupy.MarabouCore.Statistics at 0x29fa03870>,\n",
       " <maraboupy.MarabouCore.InputQuery at 0x29fa031f0>]"
      ]
     },
     "execution_count": 10,
     "metadata": {},
     "output_type": "execute_result"
    }
   ],
   "source": [
    "activation = {1: ['ON', 'OFF'], 3: ['--', '--']}\n",
    "dp.solve(activation, dp_model, 0)"
   ]
  },
  {
   "cell_type": "code",
   "execution_count": 11,
   "id": "a91f9e7e",
   "metadata": {},
   "outputs": [
    {
     "data": {
      "text/plain": [
       "['sat',\n",
       " {0: -49.9999995,\n",
       "  1: -50.0000005,\n",
       "  2: 1e-06,\n",
       "  3: -100.0,\n",
       "  4: 1e-06,\n",
       "  5: 0.0,\n",
       "  6: 5e-07,\n",
       "  7: -5e-07,\n",
       "  8: 5e-07,\n",
       "  9: 5e-07,\n",
       "  10: -0.0,\n",
       "  11: -0.0},\n",
       " <maraboupy.MarabouCore.Statistics at 0x29fa027f0>,\n",
       " <maraboupy.MarabouCore.InputQuery at 0x29789a4b0>]"
      ]
     },
     "execution_count": 11,
     "metadata": {},
     "output_type": "execute_result"
    }
   ],
   "source": [
    "activation = {1: ['ON', '--'], 3: ['--', '--']}\n",
    "dp.solve(activation, dp_model, 0)"
   ]
  },
  {
   "cell_type": "markdown",
   "id": "1d48f636",
   "metadata": {},
   "source": [
    "### Test Iterative Relaxation"
   ]
  },
  {
   "cell_type": "code",
   "execution_count": 12,
   "id": "5598f6a0",
   "metadata": {},
   "outputs": [
    {
     "name": "stdout",
     "output_type": "stream",
     "text": [
      "input property: [{1: ['ON', 'OFF'], 3: ['--', '--']}]\n"
     ]
    }
   ],
   "source": [
    "ir_model = ProphecyPaperNetwork()\n",
    "iterative_relaxation = IterativeRelaxation()\n",
    "\n",
    "input_property = iterative_relaxation.call(ir_model, [[1, -1]], 0)\n",
    "print(f\"input property: {input_property}\")"
   ]
  },
  {
   "cell_type": "code",
   "execution_count": 13,
   "id": "bce4f769",
   "metadata": {},
   "outputs": [
    {
     "name": "stdout",
     "output_type": "stream",
     "text": [
      "input property: [{1: ['ON', 'OFF'], 3: ['ON', 'OFF']}, 1]\n"
     ]
    }
   ],
   "source": [
    "ir_model = ProphecyPaperNetwork()\n",
    "iterative_relaxation = IterativeRelaxation()\n",
    "\n",
    "input_property = iterative_relaxation.call(ir_model, [[1, -1]], 1)\n",
    "print(f\"input property: {input_property}\")"
   ]
  },
  {
   "cell_type": "markdown",
   "id": "f6c6f397",
   "metadata": {},
   "source": [
    "### Manual example"
   ]
  },
  {
   "cell_type": "code",
   "execution_count": null,
   "id": "1c2c05d0",
   "metadata": {},
   "outputs": [],
   "source": [
    "import sys\n",
    "import numpy as np\n",
    "sys.path.append('/Users/khoanguyen-cp/gmu/Marabou')\n",
    "\n",
    "from maraboupy import MarabouCore\n",
    "from maraboupy.Marabou import createOptions\n",
    "inputQuery = MarabouCore.InputQuery()\n",
    "inputQuery.setNumberOfVariables(12)\n",
    "\n",
    "# boundaries\n",
    "for i in [0,1]:\n",
    "  inputQuery.setLowerBound(i,-10)\n",
    "  inputQuery.setUpperBound(i,10)\n",
    "\n",
    "for i in [2,3,6,7,10,11]:\n",
    "  inputQuery.setLowerBound(i,-100)\n",
    "  inputQuery.setUpperBound(i,100)\n",
    "\n",
    "# activated relu: > 0\n",
    "for i in [4]:\n",
    "  inputQuery.setLowerBound(i,1e-6)\n",
    "  inputQuery.setUpperBound(i,100)\n",
    "  \n",
    "# unactivated relu:\n",
    "for i in []:\n",
    "  inputQuery.setLowerBound(i,0)\n",
    "  inputQuery.setUpperBound(i,0)\n",
    "  \n",
    "# unconstrained\n",
    "for i in [5, 8, 9]:\n",
    "  inputQuery.setLowerBound(i,0)\n",
    "  inputQuery.setUpperBound(i,100)\n",
    "\n",
    "# output constraint\n",
    "equation_type = MarabouCore.Equation.EquationType(2) # type 2 is Less than or equal (LE inequality)\n",
    "equation = MarabouCore.Equation(equation_type) \n",
    "equation.addAddend(1, 10)\n",
    "equation.addAddend(-1, 11)\n",
    "equation.setScalar(0)\n",
    "disjunction = []\n",
    "disjunction.append([equation])\n",
    "MarabouCore.addDisjunctionConstraint(inputQuery, disjunction)\n",
    "# inputQuery.addEquation(equation)\n",
    "\n",
    "# layer 1, \n",
    "# node1,1b\n",
    "# x0-x1=x2 \n",
    "equation=MarabouCore.Equation()\n",
    "equation.addAddend(1,0)\n",
    "equation.addAddend(-1,1)\n",
    "equation.addAddend(-1,2)\n",
    "equation.setScalar(0)\n",
    "inputQuery.addEquation(equation)\n",
    "\n",
    "#node1,2b\n",
    "#x0+x1=x3 \n",
    "equation=MarabouCore.Equation()\n",
    "equation.addAddend(1,0)\n",
    "equation.addAddend(1,1)\n",
    "equation.addAddend(-1,3)\n",
    "equation.setScalar(0)\n",
    "inputQuery.addEquation(equation)\n",
    "\n",
    "# layer 2\n",
    "#node2,1b\n",
    "#0.5x4-0.2x5=x6\n",
    "equation=MarabouCore.Equation()\n",
    "equation.addAddend(0.5,4)\n",
    "equation.addAddend(-0.2,5)\n",
    "equation.addAddend(-1,6)\n",
    "equation.setScalar(0)\n",
    "inputQuery.addEquation(equation)\n",
    "\n",
    "#node2,2b\n",
    "#-0.5x4+0.1x5=x7\n",
    "equation=MarabouCore.Equation()\n",
    "equation.addAddend(-0.5,4)\n",
    "equation.addAddend(0.1,5)\n",
    "equation.addAddend(-1,7)\n",
    "equation.setScalar(0)\n",
    "inputQuery.addEquation(equation)\n",
    "\n",
    "# layer output\n",
    "#node3,1b\n",
    "#x8-x9=x10\n",
    "equation=MarabouCore.Equation()\n",
    "equation.addAddend(1,8)\n",
    "equation.addAddend(-1,9)\n",
    "equation.addAddend(-1,10)\n",
    "equation.setScalar(0)\n",
    "inputQuery.addEquation(equation)\n",
    "\n",
    "#node3,2b\n",
    "#-x8+x9=x11\n",
    "equation=MarabouCore.Equation()\n",
    "equation.addAddend(-1,8)\n",
    "equation.addAddend(1,9)\n",
    "equation.addAddend(-1,11)\n",
    "equation.setScalar(0)\n",
    "inputQuery.addEquation(equation)\n",
    "\n",
    "# relu constraints\n",
    "MarabouCore.addReluConstraint(inputQuery, 2,4) #x4=relu(x2)\n",
    "MarabouCore.addReluConstraint(inputQuery, 3,5) #x5=relu(x3)\n",
    "MarabouCore.addReluConstraint(inputQuery, 6,8)#x8=relu(x6)\n",
    "MarabouCore.addReluConstraint(inputQuery, 7,9)#x9=relu(x7)\n",
    "\n",
    "# solve\n",
    "options = createOptions(verbosity=0)\n",
    "MarabouCore.solve(inputQuery, options, \"\")"
   ]
  },
  {
   "cell_type": "code",
   "execution_count": null,
   "id": "4ec9aa90",
   "metadata": {},
   "outputs": [],
   "source": []
  }
 ],
 "metadata": {
  "kernelspec": {
   "display_name": "Python 3 (ipykernel)",
   "language": "python",
   "name": "python3"
  },
  "language_info": {
   "codemirror_mode": {
    "name": "ipython",
    "version": 3
   },
   "file_extension": ".py",
   "mimetype": "text/x-python",
   "name": "python",
   "nbconvert_exporter": "python",
   "pygments_lexer": "ipython3",
   "version": "3.10.9"
  }
 },
 "nbformat": 4,
 "nbformat_minor": 5
}
