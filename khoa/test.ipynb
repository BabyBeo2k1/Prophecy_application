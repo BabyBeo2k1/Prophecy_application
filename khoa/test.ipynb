{
 "cells": [
  {
   "cell_type": "code",
   "execution_count": 1,
   "id": "30d07c35",
   "metadata": {},
   "outputs": [
    {
     "name": "stdout",
     "output_type": "stream",
     "text": [
      "WARNING:tensorflow:From /Users/khoanguyen-cp/anaconda3/lib/python3.10/site-packages/tensorflow/python/compat/v2_compat.py:107: disable_resource_variables (from tensorflow.python.ops.variable_scope) is deprecated and will be removed in a future version.\n",
      "Instructions for updating:\n",
      "non-resource variables are not supported in the long term\n"
     ]
    }
   ],
   "source": [
    "from algorithms.iterative_relaxation import IterativeRelaxation\n",
    "from algorithms.decision_procedure import MarabouCoreDP\n",
    "from models.test_models import ProphecyPaperNetwork, TestModel\n",
    "import torch\n",
    "import copy\n",
    "from torch import nn"
   ]
  },
  {
   "cell_type": "markdown",
   "id": "7451fdb5",
   "metadata": {},
   "source": [
    "### Test DP"
   ]
  },
  {
   "cell_type": "code",
   "execution_count": 2,
   "id": "95b44826",
   "metadata": {},
   "outputs": [],
   "source": [
    "dp = MarabouCoreDP()\n",
    "prophecy_model = ProphecyPaperNetwork()"
   ]
  },
  {
   "cell_type": "code",
   "execution_count": 3,
   "id": "08738058",
   "metadata": {},
   "outputs": [
    {
     "data": {
      "text/plain": [
       "['unsat',\n",
       " {},\n",
       " <maraboupy.MarabouCore.Statistics at 0x2a6a94270>,\n",
       " <maraboupy.MarabouCore.InputQuery at 0x2a6a9d370>]"
      ]
     },
     "execution_count": 3,
     "metadata": {},
     "output_type": "execute_result"
    }
   ],
   "source": [
    "activation = {\n",
    "  'linear_relu_stack.1': ['ON', 'OFF'], \n",
    "  'linear_relu_stack.3': ['ON', 'OFF'],\n",
    "}\n",
    "dp.solve(activation, prophecy_model, 0)"
   ]
  },
  {
   "cell_type": "code",
   "execution_count": 4,
   "id": "943609d8",
   "metadata": {},
   "outputs": [
    {
     "data": {
      "text/plain": [
       "['unsat',\n",
       " {},\n",
       " <maraboupy.MarabouCore.Statistics at 0x2a6a96930>,\n",
       " <maraboupy.MarabouCore.InputQuery at 0x2a6a727b0>]"
      ]
     },
     "execution_count": 4,
     "metadata": {},
     "output_type": "execute_result"
    }
   ],
   "source": [
    "activation = {\n",
    "  'linear_relu_stack.1': ['ON', 'OFF'], \n",
    "  'linear_relu_stack.3': ['--', '--'],\n",
    "}\n",
    "dp.solve(activation, prophecy_model, 0)"
   ]
  },
  {
   "cell_type": "code",
   "execution_count": 5,
   "id": "a91f9e7e",
   "metadata": {},
   "outputs": [
    {
     "data": {
      "text/plain": [
       "['sat',\n",
       " {0: -49.9999995,\n",
       "  1: -50.0000005,\n",
       "  2: 1e-06,\n",
       "  3: -100.0,\n",
       "  4: 1e-06,\n",
       "  5: 0.0,\n",
       "  6: 5e-07,\n",
       "  7: -5e-07,\n",
       "  8: 5e-07,\n",
       "  9: 5e-07,\n",
       "  10: -0.0,\n",
       "  11: -0.0},\n",
       " <maraboupy.MarabouCore.Statistics at 0x2a792c470>,\n",
       " <maraboupy.MarabouCore.InputQuery at 0x2a790adf0>]"
      ]
     },
     "execution_count": 5,
     "metadata": {},
     "output_type": "execute_result"
    }
   ],
   "source": [
    "activation = {\n",
    "  'linear_relu_stack.1': ['ON', '--'], \n",
    "  'linear_relu_stack.3': ['--', '--'],\n",
    "}\n",
    "dp.solve(activation, prophecy_model, 0)"
   ]
  },
  {
   "cell_type": "markdown",
   "id": "1d48f636",
   "metadata": {},
   "source": [
    "### Test Iterative Relaxation"
   ]
  },
  {
   "cell_type": "code",
   "execution_count": 6,
   "id": "5598f6a0",
   "metadata": {},
   "outputs": [
    {
     "name": "stdout",
     "output_type": "stream",
     "text": [
      "input property: [{'linear_relu_stack.1': ['ON', 'OFF'], 'linear_relu_stack.3': ['--', '--']}]\n"
     ]
    }
   ],
   "source": [
    "ir_model = ProphecyPaperNetwork()\n",
    "iterative_relaxation = IterativeRelaxation()\n",
    "\n",
    "input_property = iterative_relaxation.call(ir_model, [[1, -1]], 0)\n",
    "print(f\"input property: {input_property}\")"
   ]
  },
  {
   "cell_type": "code",
   "execution_count": 7,
   "id": "bce4f769",
   "metadata": {},
   "outputs": [
    {
     "name": "stdout",
     "output_type": "stream",
     "text": [
      "input property: [{'linear_relu_stack.1': ['ON', 'OFF'], 'linear_relu_stack.3': ['ON', 'OFF']}, 1]\n"
     ]
    }
   ],
   "source": [
    "ir_model = ProphecyPaperNetwork()\n",
    "iterative_relaxation = IterativeRelaxation()\n",
    "\n",
    "input_property = iterative_relaxation.call(ir_model, [[1, -1]], 1)\n",
    "print(f\"input property: {input_property}\")"
   ]
  },
  {
   "cell_type": "code",
   "execution_count": null,
   "id": "4ec9aa90",
   "metadata": {},
   "outputs": [],
   "source": []
  }
 ],
 "metadata": {
  "kernelspec": {
   "display_name": "Python 3 (ipykernel)",
   "language": "python",
   "name": "python3"
  },
  "language_info": {
   "codemirror_mode": {
    "name": "ipython",
    "version": 3
   },
   "file_extension": ".py",
   "mimetype": "text/x-python",
   "name": "python",
   "nbconvert_exporter": "python",
   "pygments_lexer": "ipython3",
   "version": "3.10.9"
  }
 },
 "nbformat": 4,
 "nbformat_minor": 5
}
